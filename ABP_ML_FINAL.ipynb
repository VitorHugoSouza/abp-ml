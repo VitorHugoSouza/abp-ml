{
  "cells": [
    {
      "cell_type": "code",
      "execution_count": null,
      "metadata": {
        "id": "MgKECiwnq0So"
      },
      "outputs": [],
      "source": []
    },
    {
      "cell_type": "markdown",
      "metadata": {
        "id": "o1w6Umn6q0Sp"
      },
      "source": [
        "## Contextualização "
      ]
    },
    {
      "cell_type": "markdown",
      "metadata": {
        "id": "YN71JgwCq0Sq"
      },
      "source": [
        "* No setor da indústria manufatureira de objetos cerâmicos os principais problemas enfrentados são identificação rápida e eficiente de pequenas deformações/fissuras. \n",
        "\n",
        "* Tipos de fissura podem acontecer na estrutura interna das peças e que não são facilmente identificadas através de uma inspeção visual.\n",
        "\n",
        "* Hoje na indústria cerâmica o processo de controle de qualidade para defeitos não-visuais é tradicionalmente realizado de forma manual.\n"
      ]
    },
    {
      "cell_type": "code",
      "execution_count": null,
      "metadata": {
        "id": "Ih96bSOlq0Sr"
      },
      "outputs": [],
      "source": []
    },
    {
      "cell_type": "markdown",
      "metadata": {
        "id": "DW2jDsjTNmsP"
      },
      "source": [
        "## Importe as bibliotecas para realização do projeto \n",
        "\n",
        "  Bibliotecas necessárias: \n",
        "\t \n",
        "\n",
        "*   numpy (https://numpy.org/doc/stable/)\n",
        "*   pandas (https://pandas.pydata.org/docs/)\n",
        "*   matplotlib (https://matplotlib.org/contents.html)\n",
        "*   seaborn (https://seaborn.pydata.org/)\n",
        "*   Plotly (https://plotly.com/)\n",
        "*   modelos (scikitlearn: https://scikit-learn.org/stable/supervised_learning.html)\n",
        "*   métricas  (scikitlearn: https://scikit-learn.org/stable/modules/model_evaluation.html)\n",
        "*   cross validation (scikitlearn : https://scikit-learn.org/stable/modules/cross_validation.html)\n",
        "*   SearchGrid (scikitlearn : https://scikit-learn.org/stable/modules/generated/sklearn.model_selection.GridSearchCV.html)\n",
        "*   Pipeline(scikitlearn: https://scikit-learn.org/stable/modules/generated/sklearn.pipeline.Pipeline.html)\n",
        "*   Discrete Fourier Transform  (https://numpy.org/doc/stable/reference/routines.fft.html)\n",
        "*   WavFile (https://docs.scipy.org/doc/scipy/reference/generated/scipy.io.wavfile.read.html)\n",
        "*  Outras: qualquer lib que vocês quiserem usar como suporte para o desenvolvimento"
      ]
    },
    {
      "cell_type": "code",
      "execution_count": null,
      "metadata": {
        "id": "WU5XnSLMPeBm"
      },
      "outputs": [],
      "source": [
        "import pandas as pd\n",
        "import numpy as np\n",
        "import matplotlib.pyplot as plt \n",
        "import soundfile as sf\n",
        "import os\n",
        "import audioop\n",
        "from os.path import dirname, join as pjoin\n",
        "from scipy.io import wavfile\n",
        "import scipy.io\n",
        "from sklearn import preprocessing\n",
        "from matplotlib import pyplot\n",
        "import seaborn as sns\n",
        "from sklearn.preprocessing import LabelEncoder\n",
        "from sklearn.ensemble import RandomForestClassifier\n",
        "from sklearn.svm import SVC\n",
        "from sklearn.neighbors import KNeighborsClassifier\n",
        "from sklearn.pipeline import  Pipeline\n",
        "from sklearn.model_selection import GridSearchCV\n",
        "from sklearn.model_selection import train_test_split\n",
        "from sklearn.feature_selection import RFE\n",
        "from sklearn.tree import DecisionTreeClassifier\n",
        "from sklearn.metrics import classification_report\n",
        "from sklearn.metrics import confusion_matrix"
      ]
    },
    {
      "cell_type": "code",
      "source": [
        "from google.colab import drive\n",
        "drive.mount('/content/drive')"
      ],
      "metadata": {
        "colab": {
          "base_uri": "https://localhost:8080/"
        },
        "id": "IEYLy084qk1c",
        "outputId": "c0031b00-9458-4d6d-cc17-ba0f28ae2033"
      },
      "execution_count": null,
      "outputs": [
        {
          "output_type": "stream",
          "name": "stdout",
          "text": [
            "Drive already mounted at /content/drive; to attempt to forcibly remount, call drive.mount(\"/content/drive\", force_remount=True).\n"
          ]
        }
      ]
    },
    {
      "cell_type": "markdown",
      "metadata": {
        "id": "JUBgFQVXPpEj"
      },
      "source": [
        "## Leitura da base de dados (wav) e Pré-processamento \n",
        "\n",
        "https://alunosatcedu-my.sharepoint.com/:f:/g/personal/yuri_crotti_satc_edu_br/EqmLFeEuV-5Fks6OKqncfigBKPLtbOZGgkuBjy35WPvwFA?e=nRtTdC\n"
      ]
    },
    {
      "cell_type": "code",
      "execution_count": null,
      "metadata": {
        "id": "IDQBhf6PSMYX"
      },
      "outputs": [],
      "source": [
        "path1 = '/content/drive/MyDrive/Dataset/bad'\n",
        "dirs = os.listdir( path1 )\n"
      ]
    },
    {
      "cell_type": "code",
      "source": [
        "for file1 in dirs:\n",
        "   print(file1)"
      ],
      "metadata": {
        "id": "KhPcBFQF0qLW",
        "colab": {
          "base_uri": "https://localhost:8080/"
        },
        "outputId": "db9d8918-2bba-4232-c4f1-990b56f39431"
      },
      "execution_count": null,
      "outputs": [
        {
          "output_type": "stream",
          "name": "stdout",
          "text": [
            "124.wav\n",
            "123.wav\n",
            "126.wav\n",
            "101.wav\n",
            "105.wav\n",
            "116.wav\n",
            "107.wav\n",
            "12.wav\n",
            "115.wav\n",
            "111.wav\n",
            "125.wav\n",
            "103.wav\n",
            "121.wav\n",
            "1.wav\n",
            "117.wav\n",
            "109.wav\n",
            "10.wav\n",
            "119.wav\n",
            "104.wav\n",
            "120.wav\n",
            "106.wav\n",
            "112.wav\n",
            "108.wav\n",
            "100.wav\n",
            "118.wav\n",
            "110.wav\n",
            "114.wav\n",
            "11.wav\n",
            "102.wav\n",
            "122.wav\n",
            "113.wav\n",
            "89.wav\n",
            "71.wav\n",
            "25.wav\n",
            "131.wav\n",
            "129.wav\n",
            "137.wav\n",
            "61.wav\n",
            "54.wav\n",
            "75.wav\n",
            "90.wav\n",
            "44.wav\n",
            "59.wav\n",
            "13.wav\n",
            "43.wav\n",
            "41.wav\n",
            "74.wav\n",
            "40.wav\n",
            "91.wav\n",
            "48.wav\n",
            "7.wav\n",
            "73.wav\n",
            "94.wav\n",
            "76.wav\n",
            "37.wav\n",
            "99.wav\n",
            "39.wav\n",
            "68.wav\n",
            "14.wav\n",
            "80.wav\n",
            "32.wav\n",
            "67.wav\n",
            "83.wav\n",
            "64.wav\n",
            "21.wav\n",
            "36.wav\n",
            "56.wav\n",
            "95.wav\n",
            "66.wav\n",
            "138.wav\n",
            "35.wav\n",
            "27.wav\n",
            "20.wav\n",
            "53.wav\n",
            "24.wav\n",
            "98.wav\n",
            "140.wav\n",
            "133.wav\n",
            "128.wav\n",
            "63.wav\n",
            "60.wav\n",
            "5.wav\n",
            "9.wav\n",
            "136.wav\n",
            "38.wav\n",
            "70.wav\n",
            "4.wav\n",
            "42.wav\n",
            "79.wav\n",
            "85.wav\n",
            "96.wav\n",
            "28.wav\n",
            "65.wav\n",
            "84.wav\n",
            "81.wav\n",
            "46.wav\n",
            "130.wav\n",
            "3.wav\n",
            "49.wav\n",
            "97.wav\n",
            "19.wav\n",
            "57.wav\n",
            "26.wav\n",
            "51.wav\n",
            "62.wav\n",
            "33.wav\n",
            "6.wav\n",
            "22.wav\n",
            "78.wav\n",
            "18.wav\n",
            "17.wav\n",
            "50.wav\n",
            "16.wav\n",
            "8.wav\n",
            "31.wav\n",
            "134.wav\n",
            "132.wav\n",
            "29.wav\n",
            "77.wav\n",
            "52.wav\n",
            "2.wav\n",
            "34.wav\n",
            "93.wav\n",
            "92.wav\n",
            "30.wav\n",
            "86.wav\n",
            "55.wav\n",
            "23.wav\n",
            "87.wav\n",
            "82.wav\n",
            "45.wav\n",
            "58.wav\n",
            "135.wav\n",
            "69.wav\n",
            "15.wav\n",
            "88.wav\n",
            "72.wav\n",
            "139.wav\n",
            "47.wav\n",
            "127.wav\n"
          ]
        }
      ]
    },
    {
      "cell_type": "code",
      "source": [
        "path2 = '/content/drive/MyDrive/Dataset/good'\n",
        "dirs = os.listdir( path2 )\n"
      ],
      "metadata": {
        "id": "oz1hM1jT0tdV"
      },
      "execution_count": null,
      "outputs": []
    },
    {
      "cell_type": "code",
      "source": [
        "for file2 in dirs:\n",
        "   print(file2)"
      ],
      "metadata": {
        "id": "EsLSz1HK1mrk",
        "colab": {
          "base_uri": "https://localhost:8080/"
        },
        "outputId": "13ced5c8-9951-41dd-a151-f6c48e86bd82"
      },
      "execution_count": null,
      "outputs": [
        {
          "output_type": "stream",
          "name": "stdout",
          "text": [
            "89.wav\n",
            "8.wav\n",
            "72.wav\n",
            "48.wav\n",
            "44.wav\n",
            "92.wav\n",
            "137.wav\n",
            "56.wav\n",
            "93.wav\n",
            "7.wav\n",
            "68.wav\n",
            "16.wav\n",
            "37.wav\n",
            "10.wav\n",
            "30.wav\n",
            "79.wav\n",
            "103.wav\n",
            "82.wav\n",
            "6.wav\n",
            "35.wav\n",
            "95.wav\n",
            "41.wav\n",
            "108.wav\n",
            "124.wav\n",
            "36.wav\n",
            "17.wav\n",
            "63.wav\n",
            "130.wav\n",
            "78.wav\n",
            "46.wav\n",
            "29.wav\n",
            "70.wav\n",
            "12.wav\n",
            "113.wav\n",
            "86.wav\n",
            "67.wav\n",
            "27.wav\n",
            "115.wav\n",
            "83.wav\n",
            "19.wav\n",
            "50.wav\n",
            "20.wav\n",
            "4.wav\n",
            "81.wav\n",
            "110.wav\n",
            "32.wav\n",
            "43.wav\n",
            "88.wav\n",
            "138.wav\n",
            "136.wav\n",
            "14.wav\n",
            "24.wav\n",
            "134.wav\n",
            "139.wav\n",
            "87.wav\n",
            "23.wav\n",
            "28.wav\n",
            "107.wav\n",
            "75.wav\n",
            "114.wav\n",
            "140.wav\n",
            "121.wav\n",
            "65.wav\n",
            "57.wav\n",
            "33.wav\n",
            "131.wav\n",
            "98.wav\n",
            "73.wav\n",
            "116.wav\n",
            "38.wav\n",
            "64.wav\n",
            "40.wav\n",
            "54.wav\n",
            "15.wav\n",
            "77.wav\n",
            "80.wav\n",
            "11.wav\n",
            "128.wav\n",
            "22.wav\n",
            "101.wav\n",
            "99.wav\n",
            "123.wav\n",
            "119.wav\n",
            "129.wav\n",
            "62.wav\n",
            "53.wav\n",
            "96.wav\n",
            "84.wav\n",
            "127.wav\n",
            "97.wav\n",
            "104.wav\n",
            "3.wav\n",
            "111.wav\n",
            "39.wav\n",
            "2.wav\n",
            "85.wav\n",
            "34.wav\n",
            "106.wav\n",
            "74.wav\n",
            "66.wav\n",
            "58.wav\n",
            "132.wav\n",
            "52.wav\n",
            "94.wav\n",
            "51.wav\n",
            "59.wav\n",
            "71.wav\n",
            "55.wav\n",
            "125.wav\n",
            "91.wav\n",
            "135.wav\n",
            "133.wav\n",
            "69.wav\n",
            "1.wav\n",
            "61.wav\n",
            "13.wav\n",
            "21.wav\n",
            "49.wav\n",
            "18.wav\n",
            "102.wav\n",
            "112.wav\n",
            "25.wav\n",
            "126.wav\n",
            "122.wav\n",
            "45.wav\n",
            "47.wav\n",
            "90.wav\n",
            "60.wav\n",
            "31.wav\n",
            "42.wav\n",
            "9.wav\n",
            "76.wav\n",
            "105.wav\n",
            "117.wav\n",
            "118.wav\n",
            "100.wav\n",
            "120.wav\n",
            "26.wav\n",
            "5.wav\n",
            "109.wav\n"
          ]
        }
      ]
    },
    {
      "cell_type": "markdown",
      "metadata": {
        "id": "waso6XwmS9HE"
      },
      "source": [
        "### Crie DataFrame com os dados com seus respectivos rótulos \n",
        "\n",
        "Percorrer as pastas com áudios de telhas boas e ruins, criar um dataset com a extração de das características.\n",
        "\n",
        "### Extração de características dos áudios \n",
        "*   Valor Mínimo do sinal \n",
        "*   Valor Máximo do sinal \n",
        "*   Valor médio \n",
        "*   Força \n",
        "*   Valor RMS\n",
        "*   Variância \n",
        "*   Fator de Forma \n",
        "*   Fator de crista \n",
        "*   Energia "
      ]
    },
    {
      "cell_type": "code",
      "source": [
        "colunas = ['qualidade', 'data', 'rate', 'valorMinimo', 'valorMaximo',  'valorMedio',  'forca', 'valorRMS', \n",
        "           'variancia', 'fatorForma', 'fatorCrista', 'energia']"
      ],
      "metadata": {
        "id": "NcSkPW6C4PU4"
      },
      "execution_count": null,
      "outputs": []
    },
    {
      "cell_type": "code",
      "execution_count": null,
      "metadata": {
        "id": "LNeoTte6UcGx"
      },
      "outputs": [],
      "source": [
        "def extrair(df, dataset, rate, qualidade):\n",
        "  df = df.append({'qualidade': qualidade, 'data': data, 'rate': rate, 'valorMinimo': np.min(dataset), 'valorMaximo': np.max(dataset),\n",
        "       'valorMedio': np.mean(dataset), 'forca': np.sum(dataset), 'valorRMS': audioop.rms(dataset, 2), 'variancia': np.var(dataset),\n",
        "       'fatorForma': np.max(dataset) / audioop.rms(dataset, 2), 'fatorCrista': np.max(dataset) / np.mean(dataset),\n",
        "       'energia': np.sum(dataset**2)}, ignore_index=True\n",
        "  )\n",
        "  return df"
      ]
    },
    {
      "cell_type": "code",
      "source": [
        "dataframe = pd.DataFrame(data = [], columns = colunas)"
      ],
      "metadata": {
        "id": "7NB9C9tN4H6Y"
      },
      "execution_count": null,
      "outputs": []
    },
    {
      "cell_type": "code",
      "execution_count": null,
      "metadata": {
        "id": "oPDGQ5PPUcOd"
      },
      "outputs": [],
      "source": [
        "for classe in ['bad', 'good']:\n",
        "  for i in range(1, 141):\n",
        "    data_dir = pjoin(dirname(scipy.io.__file__), '/content/drive/MyDrive/Dataset/'+str(classe)+'/')\n",
        "    wav_fname = pjoin(data_dir, str(i)+'.wav')\n",
        "    rate, data = wavfile.read(wav_fname)\n",
        "    dataframe = extrair(dataframe, data, rate, 0 if classe == 'bad' else 1)"
      ]
    },
    {
      "cell_type": "code",
      "source": [
        "dataframe.to_csv('dataset.csv', index=False)"
      ],
      "metadata": {
        "id": "jiJmcdZj3WWJ"
      },
      "execution_count": null,
      "outputs": []
    },
    {
      "cell_type": "markdown",
      "metadata": {
        "id": "eDXXNx0xUiZB"
      },
      "source": [
        "### Análise e pré-processamento numérica dos dados \n",
        "\n",
        "Realize uma análise nos dados com as ferramentas com as funções  head(), describe(), info(). Caso seja necessário aplique técnicas para tratar dados nulos, dados categóricos e outliers.   "
      ]
    },
    {
      "cell_type": "code",
      "execution_count": null,
      "metadata": {
        "id": "7wpuaZkOVdeF",
        "colab": {
          "base_uri": "https://localhost:8080/",
          "height": 206
        },
        "outputId": "ef48184b-b94f-46be-8232-9e4ebbb4143f"
      },
      "outputs": [
        {
          "output_type": "execute_result",
          "data": {
            "text/plain": [
              "  qualidade                                               data   rate  \\\n",
              "0         0  [0, 0, 0, 0, 0, 0, 0, 0, 0, 0, 0, 0, 0, 0, 0, ...  44000   \n",
              "1         0  [0, 0, 0, 0, 0, 0, 0, 0, 0, 0, 0, 0, 0, 0, 0, ...  44000   \n",
              "2         0  [0, 0, 0, 0, 0, 0, 0, 0, 0, 0, 0, 0, 0, 0, 0, ...  44000   \n",
              "3         0  [0, 0, 0, 0, 0, 0, 0, 0, 0, 0, 0, 0, 0, 0, 0, ...  44000   \n",
              "4         0  [0, 0, 0, 0, 0, 0, 0, 0, 0, 0, 0, 0, 0, 0, 0, ...  44000   \n",
              "\n",
              "  valorMinimo valorMaximo  valorMedio   forca valorRMS     variancia  \\\n",
              "0      -32767       32511   -1.657955  -29180     3973  1.579228e+07   \n",
              "1      -32767       31231    1.311364   23080     3789  1.436082e+07   \n",
              "2      -32767       32511    0.523977    9222     3823  1.461783e+07   \n",
              "3      -32767       32511   -0.246591   -4340     3640  1.325203e+07   \n",
              "4      -32767       27135   -1.147614  -20198     3522  1.240638e+07   \n",
              "\n",
              "   fatorForma    fatorCrista  energia  \n",
              "0    8.182985  -19609.102125  5427976  \n",
              "1    8.242544   23815.667244  4719834  \n",
              "2    8.504054   62046.584255  5181162  \n",
              "3    8.931593 -131841.843318  4121264  \n",
              "4    7.704429  -23644.717299  3403924  "
            ],
            "text/html": [
              "\n",
              "  <div id=\"df-385849c4-a057-4120-aa1a-ca6f3d37f868\">\n",
              "    <div class=\"colab-df-container\">\n",
              "      <div>\n",
              "<style scoped>\n",
              "    .dataframe tbody tr th:only-of-type {\n",
              "        vertical-align: middle;\n",
              "    }\n",
              "\n",
              "    .dataframe tbody tr th {\n",
              "        vertical-align: top;\n",
              "    }\n",
              "\n",
              "    .dataframe thead th {\n",
              "        text-align: right;\n",
              "    }\n",
              "</style>\n",
              "<table border=\"1\" class=\"dataframe\">\n",
              "  <thead>\n",
              "    <tr style=\"text-align: right;\">\n",
              "      <th></th>\n",
              "      <th>qualidade</th>\n",
              "      <th>data</th>\n",
              "      <th>rate</th>\n",
              "      <th>valorMinimo</th>\n",
              "      <th>valorMaximo</th>\n",
              "      <th>valorMedio</th>\n",
              "      <th>forca</th>\n",
              "      <th>valorRMS</th>\n",
              "      <th>variancia</th>\n",
              "      <th>fatorForma</th>\n",
              "      <th>fatorCrista</th>\n",
              "      <th>energia</th>\n",
              "    </tr>\n",
              "  </thead>\n",
              "  <tbody>\n",
              "    <tr>\n",
              "      <th>0</th>\n",
              "      <td>0</td>\n",
              "      <td>[0, 0, 0, 0, 0, 0, 0, 0, 0, 0, 0, 0, 0, 0, 0, ...</td>\n",
              "      <td>44000</td>\n",
              "      <td>-32767</td>\n",
              "      <td>32511</td>\n",
              "      <td>-1.657955</td>\n",
              "      <td>-29180</td>\n",
              "      <td>3973</td>\n",
              "      <td>1.579228e+07</td>\n",
              "      <td>8.182985</td>\n",
              "      <td>-19609.102125</td>\n",
              "      <td>5427976</td>\n",
              "    </tr>\n",
              "    <tr>\n",
              "      <th>1</th>\n",
              "      <td>0</td>\n",
              "      <td>[0, 0, 0, 0, 0, 0, 0, 0, 0, 0, 0, 0, 0, 0, 0, ...</td>\n",
              "      <td>44000</td>\n",
              "      <td>-32767</td>\n",
              "      <td>31231</td>\n",
              "      <td>1.311364</td>\n",
              "      <td>23080</td>\n",
              "      <td>3789</td>\n",
              "      <td>1.436082e+07</td>\n",
              "      <td>8.242544</td>\n",
              "      <td>23815.667244</td>\n",
              "      <td>4719834</td>\n",
              "    </tr>\n",
              "    <tr>\n",
              "      <th>2</th>\n",
              "      <td>0</td>\n",
              "      <td>[0, 0, 0, 0, 0, 0, 0, 0, 0, 0, 0, 0, 0, 0, 0, ...</td>\n",
              "      <td>44000</td>\n",
              "      <td>-32767</td>\n",
              "      <td>32511</td>\n",
              "      <td>0.523977</td>\n",
              "      <td>9222</td>\n",
              "      <td>3823</td>\n",
              "      <td>1.461783e+07</td>\n",
              "      <td>8.504054</td>\n",
              "      <td>62046.584255</td>\n",
              "      <td>5181162</td>\n",
              "    </tr>\n",
              "    <tr>\n",
              "      <th>3</th>\n",
              "      <td>0</td>\n",
              "      <td>[0, 0, 0, 0, 0, 0, 0, 0, 0, 0, 0, 0, 0, 0, 0, ...</td>\n",
              "      <td>44000</td>\n",
              "      <td>-32767</td>\n",
              "      <td>32511</td>\n",
              "      <td>-0.246591</td>\n",
              "      <td>-4340</td>\n",
              "      <td>3640</td>\n",
              "      <td>1.325203e+07</td>\n",
              "      <td>8.931593</td>\n",
              "      <td>-131841.843318</td>\n",
              "      <td>4121264</td>\n",
              "    </tr>\n",
              "    <tr>\n",
              "      <th>4</th>\n",
              "      <td>0</td>\n",
              "      <td>[0, 0, 0, 0, 0, 0, 0, 0, 0, 0, 0, 0, 0, 0, 0, ...</td>\n",
              "      <td>44000</td>\n",
              "      <td>-32767</td>\n",
              "      <td>27135</td>\n",
              "      <td>-1.147614</td>\n",
              "      <td>-20198</td>\n",
              "      <td>3522</td>\n",
              "      <td>1.240638e+07</td>\n",
              "      <td>7.704429</td>\n",
              "      <td>-23644.717299</td>\n",
              "      <td>3403924</td>\n",
              "    </tr>\n",
              "  </tbody>\n",
              "</table>\n",
              "</div>\n",
              "      <button class=\"colab-df-convert\" onclick=\"convertToInteractive('df-385849c4-a057-4120-aa1a-ca6f3d37f868')\"\n",
              "              title=\"Convert this dataframe to an interactive table.\"\n",
              "              style=\"display:none;\">\n",
              "        \n",
              "  <svg xmlns=\"http://www.w3.org/2000/svg\" height=\"24px\"viewBox=\"0 0 24 24\"\n",
              "       width=\"24px\">\n",
              "    <path d=\"M0 0h24v24H0V0z\" fill=\"none\"/>\n",
              "    <path d=\"M18.56 5.44l.94 2.06.94-2.06 2.06-.94-2.06-.94-.94-2.06-.94 2.06-2.06.94zm-11 1L8.5 8.5l.94-2.06 2.06-.94-2.06-.94L8.5 2.5l-.94 2.06-2.06.94zm10 10l.94 2.06.94-2.06 2.06-.94-2.06-.94-.94-2.06-.94 2.06-2.06.94z\"/><path d=\"M17.41 7.96l-1.37-1.37c-.4-.4-.92-.59-1.43-.59-.52 0-1.04.2-1.43.59L10.3 9.45l-7.72 7.72c-.78.78-.78 2.05 0 2.83L4 21.41c.39.39.9.59 1.41.59.51 0 1.02-.2 1.41-.59l7.78-7.78 2.81-2.81c.8-.78.8-2.07 0-2.86zM5.41 20L4 18.59l7.72-7.72 1.47 1.35L5.41 20z\"/>\n",
              "  </svg>\n",
              "      </button>\n",
              "      \n",
              "  <style>\n",
              "    .colab-df-container {\n",
              "      display:flex;\n",
              "      flex-wrap:wrap;\n",
              "      gap: 12px;\n",
              "    }\n",
              "\n",
              "    .colab-df-convert {\n",
              "      background-color: #E8F0FE;\n",
              "      border: none;\n",
              "      border-radius: 50%;\n",
              "      cursor: pointer;\n",
              "      display: none;\n",
              "      fill: #1967D2;\n",
              "      height: 32px;\n",
              "      padding: 0 0 0 0;\n",
              "      width: 32px;\n",
              "    }\n",
              "\n",
              "    .colab-df-convert:hover {\n",
              "      background-color: #E2EBFA;\n",
              "      box-shadow: 0px 1px 2px rgba(60, 64, 67, 0.3), 0px 1px 3px 1px rgba(60, 64, 67, 0.15);\n",
              "      fill: #174EA6;\n",
              "    }\n",
              "\n",
              "    [theme=dark] .colab-df-convert {\n",
              "      background-color: #3B4455;\n",
              "      fill: #D2E3FC;\n",
              "    }\n",
              "\n",
              "    [theme=dark] .colab-df-convert:hover {\n",
              "      background-color: #434B5C;\n",
              "      box-shadow: 0px 1px 3px 1px rgba(0, 0, 0, 0.15);\n",
              "      filter: drop-shadow(0px 1px 2px rgba(0, 0, 0, 0.3));\n",
              "      fill: #FFFFFF;\n",
              "    }\n",
              "  </style>\n",
              "\n",
              "      <script>\n",
              "        const buttonEl =\n",
              "          document.querySelector('#df-385849c4-a057-4120-aa1a-ca6f3d37f868 button.colab-df-convert');\n",
              "        buttonEl.style.display =\n",
              "          google.colab.kernel.accessAllowed ? 'block' : 'none';\n",
              "\n",
              "        async function convertToInteractive(key) {\n",
              "          const element = document.querySelector('#df-385849c4-a057-4120-aa1a-ca6f3d37f868');\n",
              "          const dataTable =\n",
              "            await google.colab.kernel.invokeFunction('convertToInteractive',\n",
              "                                                     [key], {});\n",
              "          if (!dataTable) return;\n",
              "\n",
              "          const docLinkHtml = 'Like what you see? Visit the ' +\n",
              "            '<a target=\"_blank\" href=https://colab.research.google.com/notebooks/data_table.ipynb>data table notebook</a>'\n",
              "            + ' to learn more about interactive tables.';\n",
              "          element.innerHTML = '';\n",
              "          dataTable['output_type'] = 'display_data';\n",
              "          await google.colab.output.renderOutput(dataTable, element);\n",
              "          const docLink = document.createElement('div');\n",
              "          docLink.innerHTML = docLinkHtml;\n",
              "          element.appendChild(docLink);\n",
              "        }\n",
              "      </script>\n",
              "    </div>\n",
              "  </div>\n",
              "  "
            ]
          },
          "metadata": {},
          "execution_count": 162
        }
      ],
      "source": [
        "dataframe.head()"
      ]
    },
    {
      "cell_type": "code",
      "source": [
        "dataframe.isnull().sum()"
      ],
      "metadata": {
        "colab": {
          "base_uri": "https://localhost:8080/"
        },
        "id": "cXCDjg67UIwp",
        "outputId": "395ed886-6b8f-4999-9547-649bf7d93004"
      },
      "execution_count": null,
      "outputs": [
        {
          "output_type": "execute_result",
          "data": {
            "text/plain": [
              "qualidade      0\n",
              "data           0\n",
              "rate           0\n",
              "valorMinimo    0\n",
              "valorMaximo    0\n",
              "valorMedio     0\n",
              "forca          0\n",
              "valorRMS       0\n",
              "variancia      0\n",
              "fatorForma     0\n",
              "fatorCrista    0\n",
              "energia        0\n",
              "dtype: int64"
            ]
          },
          "metadata": {},
          "execution_count": 163
        }
      ]
    },
    {
      "cell_type": "code",
      "source": [
        "dataframe.info() #"
      ],
      "metadata": {
        "colab": {
          "base_uri": "https://localhost:8080/"
        },
        "id": "-YonNNwV-eYX",
        "outputId": "834be6c5-5b8f-4161-eb50-39437b760099"
      },
      "execution_count": null,
      "outputs": [
        {
          "output_type": "stream",
          "name": "stdout",
          "text": [
            "<class 'pandas.core.frame.DataFrame'>\n",
            "RangeIndex: 280 entries, 0 to 279\n",
            "Data columns (total 12 columns):\n",
            " #   Column       Non-Null Count  Dtype  \n",
            "---  ------       --------------  -----  \n",
            " 0   qualidade    280 non-null    object \n",
            " 1   data         280 non-null    object \n",
            " 2   rate         280 non-null    object \n",
            " 3   valorMinimo  280 non-null    object \n",
            " 4   valorMaximo  280 non-null    object \n",
            " 5   valorMedio   280 non-null    float64\n",
            " 6   forca        280 non-null    object \n",
            " 7   valorRMS     280 non-null    object \n",
            " 8   variancia    280 non-null    float64\n",
            " 9   fatorForma   280 non-null    float64\n",
            " 10  fatorCrista  280 non-null    float64\n",
            " 11  energia      280 non-null    object \n",
            "dtypes: float64(4), object(8)\n",
            "memory usage: 26.4+ KB\n"
          ]
        }
      ]
    },
    {
      "cell_type": "code",
      "source": [
        "dataframe[['rate', 'valorMinimo', 'valorMaximo', 'forca']] = dataframe[['rate', 'valorMinimo', 'valorMaximo', 'forca']].apply(pd.to_numeric)"
      ],
      "metadata": {
        "id": "rP2h9nJ_-qmu"
      },
      "execution_count": null,
      "outputs": []
    },
    {
      "cell_type": "code",
      "execution_count": null,
      "metadata": {
        "id": "4d17Hh23VdiP",
        "colab": {
          "base_uri": "https://localhost:8080/",
          "height": 300
        },
        "outputId": "20a6fa18-9648-46d4-fb95-563360f89095"
      },
      "outputs": [
        {
          "output_type": "execute_result",
          "data": {
            "text/plain": [
              "          rate   valorMinimo   valorMaximo  valorMedio          forca  \\\n",
              "count    280.0    280.000000    280.000000  280.000000     280.000000   \n",
              "mean   44000.0 -32753.285714  32442.428571    0.043940     773.335714   \n",
              "std        0.0    126.566473    449.693821    3.541518   62330.717019   \n",
              "min    44000.0 -32767.000000  27135.000000  -15.649545 -275432.000000   \n",
              "25%    44000.0 -32767.000000  32511.000000   -2.009901  -35374.250000   \n",
              "50%    44000.0 -32767.000000  32511.000000   -0.007159    -126.000000   \n",
              "75%    44000.0 -32767.000000  32511.000000    1.755682   30900.000000   \n",
              "max    44000.0 -30975.000000  32511.000000   14.718523  259046.000000   \n",
              "\n",
              "          variancia  fatorForma   fatorCrista  \n",
              "count  2.800000e+02  280.000000  2.800000e+02  \n",
              "mean   3.337947e+07    5.889272  1.547547e+05  \n",
              "std    1.122097e+07    1.087826  2.455717e+06  \n",
              "min    1.240638e+07    4.313520 -2.151104e+06  \n",
              "25%    2.407030e+07    4.941641 -1.611614e+04  \n",
              "50%    3.350104e+07    5.617458  6.570443e+01  \n",
              "75%    4.329208e+07    6.627461  1.827978e+04  \n",
              "max    5.681086e+07    8.931593  4.087097e+07  "
            ],
            "text/html": [
              "\n",
              "  <div id=\"df-12abaabd-b356-4514-963d-77566305b6a8\">\n",
              "    <div class=\"colab-df-container\">\n",
              "      <div>\n",
              "<style scoped>\n",
              "    .dataframe tbody tr th:only-of-type {\n",
              "        vertical-align: middle;\n",
              "    }\n",
              "\n",
              "    .dataframe tbody tr th {\n",
              "        vertical-align: top;\n",
              "    }\n",
              "\n",
              "    .dataframe thead th {\n",
              "        text-align: right;\n",
              "    }\n",
              "</style>\n",
              "<table border=\"1\" class=\"dataframe\">\n",
              "  <thead>\n",
              "    <tr style=\"text-align: right;\">\n",
              "      <th></th>\n",
              "      <th>rate</th>\n",
              "      <th>valorMinimo</th>\n",
              "      <th>valorMaximo</th>\n",
              "      <th>valorMedio</th>\n",
              "      <th>forca</th>\n",
              "      <th>variancia</th>\n",
              "      <th>fatorForma</th>\n",
              "      <th>fatorCrista</th>\n",
              "    </tr>\n",
              "  </thead>\n",
              "  <tbody>\n",
              "    <tr>\n",
              "      <th>count</th>\n",
              "      <td>280.0</td>\n",
              "      <td>280.000000</td>\n",
              "      <td>280.000000</td>\n",
              "      <td>280.000000</td>\n",
              "      <td>280.000000</td>\n",
              "      <td>2.800000e+02</td>\n",
              "      <td>280.000000</td>\n",
              "      <td>2.800000e+02</td>\n",
              "    </tr>\n",
              "    <tr>\n",
              "      <th>mean</th>\n",
              "      <td>44000.0</td>\n",
              "      <td>-32753.285714</td>\n",
              "      <td>32442.428571</td>\n",
              "      <td>0.043940</td>\n",
              "      <td>773.335714</td>\n",
              "      <td>3.337947e+07</td>\n",
              "      <td>5.889272</td>\n",
              "      <td>1.547547e+05</td>\n",
              "    </tr>\n",
              "    <tr>\n",
              "      <th>std</th>\n",
              "      <td>0.0</td>\n",
              "      <td>126.566473</td>\n",
              "      <td>449.693821</td>\n",
              "      <td>3.541518</td>\n",
              "      <td>62330.717019</td>\n",
              "      <td>1.122097e+07</td>\n",
              "      <td>1.087826</td>\n",
              "      <td>2.455717e+06</td>\n",
              "    </tr>\n",
              "    <tr>\n",
              "      <th>min</th>\n",
              "      <td>44000.0</td>\n",
              "      <td>-32767.000000</td>\n",
              "      <td>27135.000000</td>\n",
              "      <td>-15.649545</td>\n",
              "      <td>-275432.000000</td>\n",
              "      <td>1.240638e+07</td>\n",
              "      <td>4.313520</td>\n",
              "      <td>-2.151104e+06</td>\n",
              "    </tr>\n",
              "    <tr>\n",
              "      <th>25%</th>\n",
              "      <td>44000.0</td>\n",
              "      <td>-32767.000000</td>\n",
              "      <td>32511.000000</td>\n",
              "      <td>-2.009901</td>\n",
              "      <td>-35374.250000</td>\n",
              "      <td>2.407030e+07</td>\n",
              "      <td>4.941641</td>\n",
              "      <td>-1.611614e+04</td>\n",
              "    </tr>\n",
              "    <tr>\n",
              "      <th>50%</th>\n",
              "      <td>44000.0</td>\n",
              "      <td>-32767.000000</td>\n",
              "      <td>32511.000000</td>\n",
              "      <td>-0.007159</td>\n",
              "      <td>-126.000000</td>\n",
              "      <td>3.350104e+07</td>\n",
              "      <td>5.617458</td>\n",
              "      <td>6.570443e+01</td>\n",
              "    </tr>\n",
              "    <tr>\n",
              "      <th>75%</th>\n",
              "      <td>44000.0</td>\n",
              "      <td>-32767.000000</td>\n",
              "      <td>32511.000000</td>\n",
              "      <td>1.755682</td>\n",
              "      <td>30900.000000</td>\n",
              "      <td>4.329208e+07</td>\n",
              "      <td>6.627461</td>\n",
              "      <td>1.827978e+04</td>\n",
              "    </tr>\n",
              "    <tr>\n",
              "      <th>max</th>\n",
              "      <td>44000.0</td>\n",
              "      <td>-30975.000000</td>\n",
              "      <td>32511.000000</td>\n",
              "      <td>14.718523</td>\n",
              "      <td>259046.000000</td>\n",
              "      <td>5.681086e+07</td>\n",
              "      <td>8.931593</td>\n",
              "      <td>4.087097e+07</td>\n",
              "    </tr>\n",
              "  </tbody>\n",
              "</table>\n",
              "</div>\n",
              "      <button class=\"colab-df-convert\" onclick=\"convertToInteractive('df-12abaabd-b356-4514-963d-77566305b6a8')\"\n",
              "              title=\"Convert this dataframe to an interactive table.\"\n",
              "              style=\"display:none;\">\n",
              "        \n",
              "  <svg xmlns=\"http://www.w3.org/2000/svg\" height=\"24px\"viewBox=\"0 0 24 24\"\n",
              "       width=\"24px\">\n",
              "    <path d=\"M0 0h24v24H0V0z\" fill=\"none\"/>\n",
              "    <path d=\"M18.56 5.44l.94 2.06.94-2.06 2.06-.94-2.06-.94-.94-2.06-.94 2.06-2.06.94zm-11 1L8.5 8.5l.94-2.06 2.06-.94-2.06-.94L8.5 2.5l-.94 2.06-2.06.94zm10 10l.94 2.06.94-2.06 2.06-.94-2.06-.94-.94-2.06-.94 2.06-2.06.94z\"/><path d=\"M17.41 7.96l-1.37-1.37c-.4-.4-.92-.59-1.43-.59-.52 0-1.04.2-1.43.59L10.3 9.45l-7.72 7.72c-.78.78-.78 2.05 0 2.83L4 21.41c.39.39.9.59 1.41.59.51 0 1.02-.2 1.41-.59l7.78-7.78 2.81-2.81c.8-.78.8-2.07 0-2.86zM5.41 20L4 18.59l7.72-7.72 1.47 1.35L5.41 20z\"/>\n",
              "  </svg>\n",
              "      </button>\n",
              "      \n",
              "  <style>\n",
              "    .colab-df-container {\n",
              "      display:flex;\n",
              "      flex-wrap:wrap;\n",
              "      gap: 12px;\n",
              "    }\n",
              "\n",
              "    .colab-df-convert {\n",
              "      background-color: #E8F0FE;\n",
              "      border: none;\n",
              "      border-radius: 50%;\n",
              "      cursor: pointer;\n",
              "      display: none;\n",
              "      fill: #1967D2;\n",
              "      height: 32px;\n",
              "      padding: 0 0 0 0;\n",
              "      width: 32px;\n",
              "    }\n",
              "\n",
              "    .colab-df-convert:hover {\n",
              "      background-color: #E2EBFA;\n",
              "      box-shadow: 0px 1px 2px rgba(60, 64, 67, 0.3), 0px 1px 3px 1px rgba(60, 64, 67, 0.15);\n",
              "      fill: #174EA6;\n",
              "    }\n",
              "\n",
              "    [theme=dark] .colab-df-convert {\n",
              "      background-color: #3B4455;\n",
              "      fill: #D2E3FC;\n",
              "    }\n",
              "\n",
              "    [theme=dark] .colab-df-convert:hover {\n",
              "      background-color: #434B5C;\n",
              "      box-shadow: 0px 1px 3px 1px rgba(0, 0, 0, 0.15);\n",
              "      filter: drop-shadow(0px 1px 2px rgba(0, 0, 0, 0.3));\n",
              "      fill: #FFFFFF;\n",
              "    }\n",
              "  </style>\n",
              "\n",
              "      <script>\n",
              "        const buttonEl =\n",
              "          document.querySelector('#df-12abaabd-b356-4514-963d-77566305b6a8 button.colab-df-convert');\n",
              "        buttonEl.style.display =\n",
              "          google.colab.kernel.accessAllowed ? 'block' : 'none';\n",
              "\n",
              "        async function convertToInteractive(key) {\n",
              "          const element = document.querySelector('#df-12abaabd-b356-4514-963d-77566305b6a8');\n",
              "          const dataTable =\n",
              "            await google.colab.kernel.invokeFunction('convertToInteractive',\n",
              "                                                     [key], {});\n",
              "          if (!dataTable) return;\n",
              "\n",
              "          const docLinkHtml = 'Like what you see? Visit the ' +\n",
              "            '<a target=\"_blank\" href=https://colab.research.google.com/notebooks/data_table.ipynb>data table notebook</a>'\n",
              "            + ' to learn more about interactive tables.';\n",
              "          element.innerHTML = '';\n",
              "          dataTable['output_type'] = 'display_data';\n",
              "          await google.colab.output.renderOutput(dataTable, element);\n",
              "          const docLink = document.createElement('div');\n",
              "          docLink.innerHTML = docLinkHtml;\n",
              "          element.appendChild(docLink);\n",
              "        }\n",
              "      </script>\n",
              "    </div>\n",
              "  </div>\n",
              "  "
            ]
          },
          "metadata": {},
          "execution_count": 169
        }
      ],
      "source": [
        "dataframe.describe()"
      ]
    },
    {
      "cell_type": "code",
      "execution_count": null,
      "metadata": {
        "id": "zu9kAfXZVdok",
        "colab": {
          "base_uri": "https://localhost:8080/"
        },
        "outputId": "fbb246e6-3a36-46e4-aff8-fdb5012ebad9"
      },
      "outputs": [
        {
          "output_type": "stream",
          "name": "stdout",
          "text": [
            "<class 'pandas.core.frame.DataFrame'>\n",
            "RangeIndex: 280 entries, 0 to 279\n",
            "Data columns (total 12 columns):\n",
            " #   Column       Non-Null Count  Dtype  \n",
            "---  ------       --------------  -----  \n",
            " 0   qualidade    280 non-null    object \n",
            " 1   data         280 non-null    object \n",
            " 2   rate         280 non-null    int64  \n",
            " 3   valorMinimo  280 non-null    int64  \n",
            " 4   valorMaximo  280 non-null    int64  \n",
            " 5   valorMedio   280 non-null    float64\n",
            " 6   forca        280 non-null    int64  \n",
            " 7   valorRMS     280 non-null    object \n",
            " 8   variancia    280 non-null    float64\n",
            " 9   fatorForma   280 non-null    float64\n",
            " 10  fatorCrista  280 non-null    float64\n",
            " 11  energia      280 non-null    object \n",
            "dtypes: float64(4), int64(4), object(4)\n",
            "memory usage: 26.4+ KB\n"
          ]
        }
      ],
      "source": [
        "dataframe.info()"
      ]
    },
    {
      "cell_type": "markdown",
      "metadata": {
        "id": "vLmSKdcQVfN_"
      },
      "source": [
        "### Análise gráfica dos dados\n",
        "\n",
        " *  Plot gráficos dos sons no domínio do tempo (Comparativo de uma telha boa e uma telha ruim). \n",
        "\n",
        " *  Plot gráficos das features (Comparativo de uma telha boa e uma telha ruim)\n"
      ]
    },
    {
      "cell_type": "code",
      "source": [
        "samplerate_good, data_audio_good = wavfile.read('/content/drive/MyDrive/Dataset/good/5.wav')\n",
        "samplerate_bad, data_audio_bad = wavfile.read('/content/drive/MyDrive/Dataset/bad/5.wav')"
      ],
      "metadata": {
        "id": "u4qbd-Mu-WRr"
      },
      "execution_count": null,
      "outputs": []
    },
    {
      "cell_type": "code",
      "source": [
        "length_good = data_audio_good.shape[0] / samplerate_good\n",
        "length_bad = data_audio_bad.shape[0] / samplerate_bad"
      ],
      "metadata": {
        "id": "xsa74l_w-WWT"
      },
      "execution_count": null,
      "outputs": []
    },
    {
      "cell_type": "code",
      "source": [
        "# Audio Bom\n",
        "time_good = np.linspace(0., length_good, data_audio_good.shape[0])\n",
        "\n",
        "fft = np.fft.fft(time_good)\n",
        "\n",
        "T = data_audio_good[1] - data_audio_good[0] # 0.001 -> 1/T = 1000\n",
        "N = time_good.size\n",
        "#f = np.linspace(0, 1 / T, N)\n",
        "# fornece os componentes de frequência correspondentes aos dados\n",
        "f = np.fft.fftfreq(len(time_good), T)\n",
        "frequencias = f[:N // 2]\n",
        "amplitudes = np.abs(fft)[:N // 2] * 1 / N\n",
        "\n",
        "plt.plot(frequencias, amplitudes, label=\"Right channel\")\n",
        "plt.legend()\n",
        "plt.title(\"Bom\")\n",
        "plt.xlabel(\"Tempo [s]\")\n",
        "plt.ylabel(\"Amplitude\")\n",
        "plt.show()\n",
        "\n",
        "#Audio Ruim\n",
        "time_bad = np.linspace(0., length_bad, data_audio_bad.shape[0])\n",
        "plt.plot(time_bad, data_audio_bad, label=\"Right channel\")\n",
        "plt.legend()\n",
        "plt.title(\"Ruim\")\n",
        "plt.xlabel(\"Tempo [s]\")\n",
        "plt.ylabel(\"Amplitude\")\n",
        "plt.show()"
      ],
      "metadata": {
        "colab": {
          "base_uri": "https://localhost:8080/",
          "height": 235
        },
        "id": "IvPm_rjM-g0U",
        "outputId": "2404ea78-c2f8-4673-a869-46b9787dd3fc"
      },
      "execution_count": null,
      "outputs": [
        {
          "output_type": "error",
          "ename": "NameError",
          "evalue": "ignored",
          "traceback": [
            "\u001b[0;31m---------------------------------------------------------------------------\u001b[0m",
            "\u001b[0;31mNameError\u001b[0m                                 Traceback (most recent call last)",
            "\u001b[0;32m<ipython-input-1-233585052338>\u001b[0m in \u001b[0;36m<module>\u001b[0;34m\u001b[0m\n\u001b[1;32m      1\u001b[0m \u001b[0;31m# Audio Bom\u001b[0m\u001b[0;34m\u001b[0m\u001b[0;34m\u001b[0m\u001b[0;34m\u001b[0m\u001b[0m\n\u001b[0;32m----> 2\u001b[0;31m \u001b[0mtime_good\u001b[0m \u001b[0;34m=\u001b[0m \u001b[0mnp\u001b[0m\u001b[0;34m.\u001b[0m\u001b[0mlinspace\u001b[0m\u001b[0;34m(\u001b[0m\u001b[0;36m0.\u001b[0m\u001b[0;34m,\u001b[0m \u001b[0mlength_good\u001b[0m\u001b[0;34m,\u001b[0m \u001b[0mdata_audio_good\u001b[0m\u001b[0;34m.\u001b[0m\u001b[0mshape\u001b[0m\u001b[0;34m[\u001b[0m\u001b[0;36m0\u001b[0m\u001b[0;34m]\u001b[0m\u001b[0;34m)\u001b[0m\u001b[0;34m\u001b[0m\u001b[0;34m\u001b[0m\u001b[0m\n\u001b[0m\u001b[1;32m      3\u001b[0m \u001b[0;34m\u001b[0m\u001b[0m\n\u001b[1;32m      4\u001b[0m \u001b[0mfft\u001b[0m \u001b[0;34m=\u001b[0m \u001b[0mnp\u001b[0m\u001b[0;34m.\u001b[0m\u001b[0mfft\u001b[0m\u001b[0;34m.\u001b[0m\u001b[0mfft\u001b[0m\u001b[0;34m(\u001b[0m\u001b[0mtime_good\u001b[0m\u001b[0;34m)\u001b[0m\u001b[0;34m\u001b[0m\u001b[0;34m\u001b[0m\u001b[0m\n\u001b[1;32m      5\u001b[0m \u001b[0;34m\u001b[0m\u001b[0m\n",
            "\u001b[0;31mNameError\u001b[0m: name 'np' is not defined"
          ]
        }
      ]
    },
    {
      "cell_type": "code",
      "source": [
        "dataframe"
      ],
      "metadata": {
        "colab": {
          "base_uri": "https://localhost:8080/",
          "height": 424
        },
        "id": "PnfpdQB58LIO",
        "outputId": "d1f90b32-73aa-436d-c2c1-fa0755f08abe"
      },
      "execution_count": null,
      "outputs": [
        {
          "output_type": "execute_result",
          "data": {
            "text/plain": [
              "    qualidade                                               data   rate  \\\n",
              "0           0  [0, 0, 0, 0, 0, 0, 0, 0, 0, 0, 0, 0, 0, 0, 0, ...  44000   \n",
              "1           0  [0, 0, 0, 0, 0, 0, 0, 0, 0, 0, 0, 0, 0, 0, 0, ...  44000   \n",
              "2           0  [0, 0, 0, 0, 0, 0, 0, 0, 0, 0, 0, 0, 0, 0, 0, ...  44000   \n",
              "3           0  [0, 0, 0, 0, 0, 0, 0, 0, 0, 0, 0, 0, 0, 0, 0, ...  44000   \n",
              "4           0  [0, 0, 0, 0, 0, 0, 0, 0, 0, 0, 0, 0, 0, 0, 0, ...  44000   \n",
              "..        ...                                                ...    ...   \n",
              "275         1  [0, 0, 0, 0, 0, 0, 0, 0, 0, 0, 0, 0, 0, 0, 0, ...  44000   \n",
              "276         1  [0, 0, 0, 0, 0, 0, 0, 0, 0, 0, 0, 0, 0, 0, 0, ...  44000   \n",
              "277         1  [0, 0, 0, 0, 0, 0, 0, 0, 0, 0, 0, 0, 0, 0, 0, ...  44000   \n",
              "278         1  [0, 0, 0, 0, 0, 0, 0, 0, 0, 0, 0, 0, 0, 0, 0, ...  44000   \n",
              "279         1  [0, 0, 0, 0, 0, 0, 0, 0, 0, 0, 0, 0, 0, 0, 0, ...  44000   \n",
              "\n",
              "     valorMinimo  valorMaximo  valorMedio  forca valorRMS     variancia  \\\n",
              "0         -32767        32511   -1.657955 -29180     3973  1.579228e+07   \n",
              "1         -32767        31231    1.311364  23080     3789  1.436082e+07   \n",
              "2         -32767        32511    0.523977   9222     3823  1.461783e+07   \n",
              "3         -32767        32511   -0.246591  -4340     3640  1.325203e+07   \n",
              "4         -32767        27135   -1.147614 -20198     3522  1.240638e+07   \n",
              "..           ...          ...         ...    ...      ...           ...   \n",
              "275       -32767        32511   -0.741534 -13051     6741  4.544672e+07   \n",
              "276       -32767        32511   -1.728920 -30429     6890  4.747962e+07   \n",
              "277       -32767        32511   -2.211023 -38914     6473  4.190334e+07   \n",
              "278       -32767        32511    2.517102  44301     7024  4.934118e+07   \n",
              "279       -32767        32511   -0.041420   -729     6355  4.039120e+07   \n",
              "\n",
              "     fatorForma    fatorCrista   energia  \n",
              "0      8.182985  -19609.102125   5427976  \n",
              "1      8.242544   23815.667244   4719834  \n",
              "2      8.504054   62046.584255   5181162  \n",
              "3      8.931593 -131841.843318   4121264  \n",
              "4      7.704429  -23644.717299   3403924  \n",
              "..          ...            ...       ...  \n",
              "275    4.822875  -43842.893265  16045963  \n",
              "276    4.718578  -18804.219659  17295303  \n",
              "277    5.022555  -14704.055096  16379240  \n",
              "278    4.628559   12916.042527  17701361  \n",
              "279    5.115814 -784902.057613  14758175  \n",
              "\n",
              "[280 rows x 12 columns]"
            ],
            "text/html": [
              "\n",
              "  <div id=\"df-937ee445-e6c1-458b-938d-aa64319caeca\">\n",
              "    <div class=\"colab-df-container\">\n",
              "      <div>\n",
              "<style scoped>\n",
              "    .dataframe tbody tr th:only-of-type {\n",
              "        vertical-align: middle;\n",
              "    }\n",
              "\n",
              "    .dataframe tbody tr th {\n",
              "        vertical-align: top;\n",
              "    }\n",
              "\n",
              "    .dataframe thead th {\n",
              "        text-align: right;\n",
              "    }\n",
              "</style>\n",
              "<table border=\"1\" class=\"dataframe\">\n",
              "  <thead>\n",
              "    <tr style=\"text-align: right;\">\n",
              "      <th></th>\n",
              "      <th>qualidade</th>\n",
              "      <th>data</th>\n",
              "      <th>rate</th>\n",
              "      <th>valorMinimo</th>\n",
              "      <th>valorMaximo</th>\n",
              "      <th>valorMedio</th>\n",
              "      <th>forca</th>\n",
              "      <th>valorRMS</th>\n",
              "      <th>variancia</th>\n",
              "      <th>fatorForma</th>\n",
              "      <th>fatorCrista</th>\n",
              "      <th>energia</th>\n",
              "    </tr>\n",
              "  </thead>\n",
              "  <tbody>\n",
              "    <tr>\n",
              "      <th>0</th>\n",
              "      <td>0</td>\n",
              "      <td>[0, 0, 0, 0, 0, 0, 0, 0, 0, 0, 0, 0, 0, 0, 0, ...</td>\n",
              "      <td>44000</td>\n",
              "      <td>-32767</td>\n",
              "      <td>32511</td>\n",
              "      <td>-1.657955</td>\n",
              "      <td>-29180</td>\n",
              "      <td>3973</td>\n",
              "      <td>1.579228e+07</td>\n",
              "      <td>8.182985</td>\n",
              "      <td>-19609.102125</td>\n",
              "      <td>5427976</td>\n",
              "    </tr>\n",
              "    <tr>\n",
              "      <th>1</th>\n",
              "      <td>0</td>\n",
              "      <td>[0, 0, 0, 0, 0, 0, 0, 0, 0, 0, 0, 0, 0, 0, 0, ...</td>\n",
              "      <td>44000</td>\n",
              "      <td>-32767</td>\n",
              "      <td>31231</td>\n",
              "      <td>1.311364</td>\n",
              "      <td>23080</td>\n",
              "      <td>3789</td>\n",
              "      <td>1.436082e+07</td>\n",
              "      <td>8.242544</td>\n",
              "      <td>23815.667244</td>\n",
              "      <td>4719834</td>\n",
              "    </tr>\n",
              "    <tr>\n",
              "      <th>2</th>\n",
              "      <td>0</td>\n",
              "      <td>[0, 0, 0, 0, 0, 0, 0, 0, 0, 0, 0, 0, 0, 0, 0, ...</td>\n",
              "      <td>44000</td>\n",
              "      <td>-32767</td>\n",
              "      <td>32511</td>\n",
              "      <td>0.523977</td>\n",
              "      <td>9222</td>\n",
              "      <td>3823</td>\n",
              "      <td>1.461783e+07</td>\n",
              "      <td>8.504054</td>\n",
              "      <td>62046.584255</td>\n",
              "      <td>5181162</td>\n",
              "    </tr>\n",
              "    <tr>\n",
              "      <th>3</th>\n",
              "      <td>0</td>\n",
              "      <td>[0, 0, 0, 0, 0, 0, 0, 0, 0, 0, 0, 0, 0, 0, 0, ...</td>\n",
              "      <td>44000</td>\n",
              "      <td>-32767</td>\n",
              "      <td>32511</td>\n",
              "      <td>-0.246591</td>\n",
              "      <td>-4340</td>\n",
              "      <td>3640</td>\n",
              "      <td>1.325203e+07</td>\n",
              "      <td>8.931593</td>\n",
              "      <td>-131841.843318</td>\n",
              "      <td>4121264</td>\n",
              "    </tr>\n",
              "    <tr>\n",
              "      <th>4</th>\n",
              "      <td>0</td>\n",
              "      <td>[0, 0, 0, 0, 0, 0, 0, 0, 0, 0, 0, 0, 0, 0, 0, ...</td>\n",
              "      <td>44000</td>\n",
              "      <td>-32767</td>\n",
              "      <td>27135</td>\n",
              "      <td>-1.147614</td>\n",
              "      <td>-20198</td>\n",
              "      <td>3522</td>\n",
              "      <td>1.240638e+07</td>\n",
              "      <td>7.704429</td>\n",
              "      <td>-23644.717299</td>\n",
              "      <td>3403924</td>\n",
              "    </tr>\n",
              "    <tr>\n",
              "      <th>...</th>\n",
              "      <td>...</td>\n",
              "      <td>...</td>\n",
              "      <td>...</td>\n",
              "      <td>...</td>\n",
              "      <td>...</td>\n",
              "      <td>...</td>\n",
              "      <td>...</td>\n",
              "      <td>...</td>\n",
              "      <td>...</td>\n",
              "      <td>...</td>\n",
              "      <td>...</td>\n",
              "      <td>...</td>\n",
              "    </tr>\n",
              "    <tr>\n",
              "      <th>275</th>\n",
              "      <td>1</td>\n",
              "      <td>[0, 0, 0, 0, 0, 0, 0, 0, 0, 0, 0, 0, 0, 0, 0, ...</td>\n",
              "      <td>44000</td>\n",
              "      <td>-32767</td>\n",
              "      <td>32511</td>\n",
              "      <td>-0.741534</td>\n",
              "      <td>-13051</td>\n",
              "      <td>6741</td>\n",
              "      <td>4.544672e+07</td>\n",
              "      <td>4.822875</td>\n",
              "      <td>-43842.893265</td>\n",
              "      <td>16045963</td>\n",
              "    </tr>\n",
              "    <tr>\n",
              "      <th>276</th>\n",
              "      <td>1</td>\n",
              "      <td>[0, 0, 0, 0, 0, 0, 0, 0, 0, 0, 0, 0, 0, 0, 0, ...</td>\n",
              "      <td>44000</td>\n",
              "      <td>-32767</td>\n",
              "      <td>32511</td>\n",
              "      <td>-1.728920</td>\n",
              "      <td>-30429</td>\n",
              "      <td>6890</td>\n",
              "      <td>4.747962e+07</td>\n",
              "      <td>4.718578</td>\n",
              "      <td>-18804.219659</td>\n",
              "      <td>17295303</td>\n",
              "    </tr>\n",
              "    <tr>\n",
              "      <th>277</th>\n",
              "      <td>1</td>\n",
              "      <td>[0, 0, 0, 0, 0, 0, 0, 0, 0, 0, 0, 0, 0, 0, 0, ...</td>\n",
              "      <td>44000</td>\n",
              "      <td>-32767</td>\n",
              "      <td>32511</td>\n",
              "      <td>-2.211023</td>\n",
              "      <td>-38914</td>\n",
              "      <td>6473</td>\n",
              "      <td>4.190334e+07</td>\n",
              "      <td>5.022555</td>\n",
              "      <td>-14704.055096</td>\n",
              "      <td>16379240</td>\n",
              "    </tr>\n",
              "    <tr>\n",
              "      <th>278</th>\n",
              "      <td>1</td>\n",
              "      <td>[0, 0, 0, 0, 0, 0, 0, 0, 0, 0, 0, 0, 0, 0, 0, ...</td>\n",
              "      <td>44000</td>\n",
              "      <td>-32767</td>\n",
              "      <td>32511</td>\n",
              "      <td>2.517102</td>\n",
              "      <td>44301</td>\n",
              "      <td>7024</td>\n",
              "      <td>4.934118e+07</td>\n",
              "      <td>4.628559</td>\n",
              "      <td>12916.042527</td>\n",
              "      <td>17701361</td>\n",
              "    </tr>\n",
              "    <tr>\n",
              "      <th>279</th>\n",
              "      <td>1</td>\n",
              "      <td>[0, 0, 0, 0, 0, 0, 0, 0, 0, 0, 0, 0, 0, 0, 0, ...</td>\n",
              "      <td>44000</td>\n",
              "      <td>-32767</td>\n",
              "      <td>32511</td>\n",
              "      <td>-0.041420</td>\n",
              "      <td>-729</td>\n",
              "      <td>6355</td>\n",
              "      <td>4.039120e+07</td>\n",
              "      <td>5.115814</td>\n",
              "      <td>-784902.057613</td>\n",
              "      <td>14758175</td>\n",
              "    </tr>\n",
              "  </tbody>\n",
              "</table>\n",
              "<p>280 rows × 12 columns</p>\n",
              "</div>\n",
              "      <button class=\"colab-df-convert\" onclick=\"convertToInteractive('df-937ee445-e6c1-458b-938d-aa64319caeca')\"\n",
              "              title=\"Convert this dataframe to an interactive table.\"\n",
              "              style=\"display:none;\">\n",
              "        \n",
              "  <svg xmlns=\"http://www.w3.org/2000/svg\" height=\"24px\"viewBox=\"0 0 24 24\"\n",
              "       width=\"24px\">\n",
              "    <path d=\"M0 0h24v24H0V0z\" fill=\"none\"/>\n",
              "    <path d=\"M18.56 5.44l.94 2.06.94-2.06 2.06-.94-2.06-.94-.94-2.06-.94 2.06-2.06.94zm-11 1L8.5 8.5l.94-2.06 2.06-.94-2.06-.94L8.5 2.5l-.94 2.06-2.06.94zm10 10l.94 2.06.94-2.06 2.06-.94-2.06-.94-.94-2.06-.94 2.06-2.06.94z\"/><path d=\"M17.41 7.96l-1.37-1.37c-.4-.4-.92-.59-1.43-.59-.52 0-1.04.2-1.43.59L10.3 9.45l-7.72 7.72c-.78.78-.78 2.05 0 2.83L4 21.41c.39.39.9.59 1.41.59.51 0 1.02-.2 1.41-.59l7.78-7.78 2.81-2.81c.8-.78.8-2.07 0-2.86zM5.41 20L4 18.59l7.72-7.72 1.47 1.35L5.41 20z\"/>\n",
              "  </svg>\n",
              "      </button>\n",
              "      \n",
              "  <style>\n",
              "    .colab-df-container {\n",
              "      display:flex;\n",
              "      flex-wrap:wrap;\n",
              "      gap: 12px;\n",
              "    }\n",
              "\n",
              "    .colab-df-convert {\n",
              "      background-color: #E8F0FE;\n",
              "      border: none;\n",
              "      border-radius: 50%;\n",
              "      cursor: pointer;\n",
              "      display: none;\n",
              "      fill: #1967D2;\n",
              "      height: 32px;\n",
              "      padding: 0 0 0 0;\n",
              "      width: 32px;\n",
              "    }\n",
              "\n",
              "    .colab-df-convert:hover {\n",
              "      background-color: #E2EBFA;\n",
              "      box-shadow: 0px 1px 2px rgba(60, 64, 67, 0.3), 0px 1px 3px 1px rgba(60, 64, 67, 0.15);\n",
              "      fill: #174EA6;\n",
              "    }\n",
              "\n",
              "    [theme=dark] .colab-df-convert {\n",
              "      background-color: #3B4455;\n",
              "      fill: #D2E3FC;\n",
              "    }\n",
              "\n",
              "    [theme=dark] .colab-df-convert:hover {\n",
              "      background-color: #434B5C;\n",
              "      box-shadow: 0px 1px 3px 1px rgba(0, 0, 0, 0.15);\n",
              "      filter: drop-shadow(0px 1px 2px rgba(0, 0, 0, 0.3));\n",
              "      fill: #FFFFFF;\n",
              "    }\n",
              "  </style>\n",
              "\n",
              "      <script>\n",
              "        const buttonEl =\n",
              "          document.querySelector('#df-937ee445-e6c1-458b-938d-aa64319caeca button.colab-df-convert');\n",
              "        buttonEl.style.display =\n",
              "          google.colab.kernel.accessAllowed ? 'block' : 'none';\n",
              "\n",
              "        async function convertToInteractive(key) {\n",
              "          const element = document.querySelector('#df-937ee445-e6c1-458b-938d-aa64319caeca');\n",
              "          const dataTable =\n",
              "            await google.colab.kernel.invokeFunction('convertToInteractive',\n",
              "                                                     [key], {});\n",
              "          if (!dataTable) return;\n",
              "\n",
              "          const docLinkHtml = 'Like what you see? Visit the ' +\n",
              "            '<a target=\"_blank\" href=https://colab.research.google.com/notebooks/data_table.ipynb>data table notebook</a>'\n",
              "            + ' to learn more about interactive tables.';\n",
              "          element.innerHTML = '';\n",
              "          dataTable['output_type'] = 'display_data';\n",
              "          await google.colab.output.renderOutput(dataTable, element);\n",
              "          const docLink = document.createElement('div');\n",
              "          docLink.innerHTML = docLinkHtml;\n",
              "          element.appendChild(docLink);\n",
              "        }\n",
              "      </script>\n",
              "    </div>\n",
              "  </div>\n",
              "  "
            ]
          },
          "metadata": {},
          "execution_count": 176
        }
      ]
    },
    {
      "cell_type": "code",
      "execution_count": null,
      "metadata": {
        "id": "E0LPOU2XXOfZ",
        "colab": {
          "base_uri": "https://localhost:8080/",
          "height": 424
        },
        "outputId": "ee3128f7-0a53-4976-8e13-7354e5494266"
      },
      "outputs": [
        {
          "output_type": "execute_result",
          "data": {
            "text/plain": [
              "    qualidade                                               data   rate  \\\n",
              "0           0  [0, 0, 0, 0, 0, 0, 0, 0, 0, 0, 0, 0, 0, 0, 0, ...  44000   \n",
              "1           0  [0, 0, 0, 0, 0, 0, 0, 0, 0, 0, 0, 0, 0, 0, 0, ...  44000   \n",
              "2           0  [0, 0, 0, 0, 0, 0, 0, 0, 0, 0, 0, 0, 0, 0, 0, ...  44000   \n",
              "3           0  [0, 0, 0, 0, 0, 0, 0, 0, 0, 0, 0, 0, 0, 0, 0, ...  44000   \n",
              "4           0  [0, 0, 0, 0, 0, 0, 0, 0, 0, 0, 0, 0, 0, 0, 0, ...  44000   \n",
              "..        ...                                                ...    ...   \n",
              "135         0  [0, 0, 0, 0, 0, 0, 0, 0, 0, 0, 0, 0, 0, 0, 0, ...  44000   \n",
              "136         0  [0, 0, 0, 0, 0, 0, 0, 0, 0, 0, 0, 0, 0, 0, 0, ...  44000   \n",
              "137         0  [0, 0, 0, 0, 0, 0, 0, 0, 0, 0, 0, 0, 0, 0, 0, ...  44000   \n",
              "138         0  [0, 0, 0, 0, 0, 0, 0, 0, 0, 0, 0, 0, 0, 0, 0, ...  44000   \n",
              "139         0  [0, 0, 0, 0, 0, 0, 0, 0, 0, 0, 0, 0, 0, 0, 0, ...  44000   \n",
              "\n",
              "     valorMinimo  valorMaximo  valorMedio  forca valorRMS     variancia  \\\n",
              "0         -32767        32511   -1.657955 -29180     3973  1.579228e+07   \n",
              "1         -32767        31231    1.311364  23080     3789  1.436082e+07   \n",
              "2         -32767        32511    0.523977   9222     3823  1.461783e+07   \n",
              "3         -32767        32511   -0.246591  -4340     3640  1.325203e+07   \n",
              "4         -32767        27135   -1.147614 -20198     3522  1.240638e+07   \n",
              "..           ...          ...         ...    ...      ...           ...   \n",
              "135       -32767        32511   -1.540170 -27107     5265  2.772034e+07   \n",
              "136       -32767        32511    4.235682  74548     5802  3.366933e+07   \n",
              "137       -32767        32511    1.893125  33319     5356  2.868911e+07   \n",
              "138       -32767        32511   -0.783295 -13786     4995  2.495367e+07   \n",
              "139       -32767        32511    1.790284  31509     5647  3.189345e+07   \n",
              "\n",
              "     fatorForma    fatorCrista   energia  \n",
              "0      8.182985  -19609.102125   5427976  \n",
              "1      8.242544   23815.667244   4719834  \n",
              "2      8.504054   62046.584255   5181162  \n",
              "3      8.931593 -131841.843318   4121264  \n",
              "4      7.704429  -23644.717299   3403924  \n",
              "..          ...            ...       ...  \n",
              "135    6.174929  -21108.702549   9184733  \n",
              "136    5.603413    7675.505714  11642960  \n",
              "137    6.070015   17173.192473  10501079  \n",
              "138    6.508709  -41505.411287   8894354  \n",
              "139    5.757216   18159.687708  11527213  \n",
              "\n",
              "[140 rows x 12 columns]"
            ],
            "text/html": [
              "\n",
              "  <div id=\"df-4706fb4c-e255-4540-833c-21c9ce372d09\">\n",
              "    <div class=\"colab-df-container\">\n",
              "      <div>\n",
              "<style scoped>\n",
              "    .dataframe tbody tr th:only-of-type {\n",
              "        vertical-align: middle;\n",
              "    }\n",
              "\n",
              "    .dataframe tbody tr th {\n",
              "        vertical-align: top;\n",
              "    }\n",
              "\n",
              "    .dataframe thead th {\n",
              "        text-align: right;\n",
              "    }\n",
              "</style>\n",
              "<table border=\"1\" class=\"dataframe\">\n",
              "  <thead>\n",
              "    <tr style=\"text-align: right;\">\n",
              "      <th></th>\n",
              "      <th>qualidade</th>\n",
              "      <th>data</th>\n",
              "      <th>rate</th>\n",
              "      <th>valorMinimo</th>\n",
              "      <th>valorMaximo</th>\n",
              "      <th>valorMedio</th>\n",
              "      <th>forca</th>\n",
              "      <th>valorRMS</th>\n",
              "      <th>variancia</th>\n",
              "      <th>fatorForma</th>\n",
              "      <th>fatorCrista</th>\n",
              "      <th>energia</th>\n",
              "    </tr>\n",
              "  </thead>\n",
              "  <tbody>\n",
              "    <tr>\n",
              "      <th>0</th>\n",
              "      <td>0</td>\n",
              "      <td>[0, 0, 0, 0, 0, 0, 0, 0, 0, 0, 0, 0, 0, 0, 0, ...</td>\n",
              "      <td>44000</td>\n",
              "      <td>-32767</td>\n",
              "      <td>32511</td>\n",
              "      <td>-1.657955</td>\n",
              "      <td>-29180</td>\n",
              "      <td>3973</td>\n",
              "      <td>1.579228e+07</td>\n",
              "      <td>8.182985</td>\n",
              "      <td>-19609.102125</td>\n",
              "      <td>5427976</td>\n",
              "    </tr>\n",
              "    <tr>\n",
              "      <th>1</th>\n",
              "      <td>0</td>\n",
              "      <td>[0, 0, 0, 0, 0, 0, 0, 0, 0, 0, 0, 0, 0, 0, 0, ...</td>\n",
              "      <td>44000</td>\n",
              "      <td>-32767</td>\n",
              "      <td>31231</td>\n",
              "      <td>1.311364</td>\n",
              "      <td>23080</td>\n",
              "      <td>3789</td>\n",
              "      <td>1.436082e+07</td>\n",
              "      <td>8.242544</td>\n",
              "      <td>23815.667244</td>\n",
              "      <td>4719834</td>\n",
              "    </tr>\n",
              "    <tr>\n",
              "      <th>2</th>\n",
              "      <td>0</td>\n",
              "      <td>[0, 0, 0, 0, 0, 0, 0, 0, 0, 0, 0, 0, 0, 0, 0, ...</td>\n",
              "      <td>44000</td>\n",
              "      <td>-32767</td>\n",
              "      <td>32511</td>\n",
              "      <td>0.523977</td>\n",
              "      <td>9222</td>\n",
              "      <td>3823</td>\n",
              "      <td>1.461783e+07</td>\n",
              "      <td>8.504054</td>\n",
              "      <td>62046.584255</td>\n",
              "      <td>5181162</td>\n",
              "    </tr>\n",
              "    <tr>\n",
              "      <th>3</th>\n",
              "      <td>0</td>\n",
              "      <td>[0, 0, 0, 0, 0, 0, 0, 0, 0, 0, 0, 0, 0, 0, 0, ...</td>\n",
              "      <td>44000</td>\n",
              "      <td>-32767</td>\n",
              "      <td>32511</td>\n",
              "      <td>-0.246591</td>\n",
              "      <td>-4340</td>\n",
              "      <td>3640</td>\n",
              "      <td>1.325203e+07</td>\n",
              "      <td>8.931593</td>\n",
              "      <td>-131841.843318</td>\n",
              "      <td>4121264</td>\n",
              "    </tr>\n",
              "    <tr>\n",
              "      <th>4</th>\n",
              "      <td>0</td>\n",
              "      <td>[0, 0, 0, 0, 0, 0, 0, 0, 0, 0, 0, 0, 0, 0, 0, ...</td>\n",
              "      <td>44000</td>\n",
              "      <td>-32767</td>\n",
              "      <td>27135</td>\n",
              "      <td>-1.147614</td>\n",
              "      <td>-20198</td>\n",
              "      <td>3522</td>\n",
              "      <td>1.240638e+07</td>\n",
              "      <td>7.704429</td>\n",
              "      <td>-23644.717299</td>\n",
              "      <td>3403924</td>\n",
              "    </tr>\n",
              "    <tr>\n",
              "      <th>...</th>\n",
              "      <td>...</td>\n",
              "      <td>...</td>\n",
              "      <td>...</td>\n",
              "      <td>...</td>\n",
              "      <td>...</td>\n",
              "      <td>...</td>\n",
              "      <td>...</td>\n",
              "      <td>...</td>\n",
              "      <td>...</td>\n",
              "      <td>...</td>\n",
              "      <td>...</td>\n",
              "      <td>...</td>\n",
              "    </tr>\n",
              "    <tr>\n",
              "      <th>135</th>\n",
              "      <td>0</td>\n",
              "      <td>[0, 0, 0, 0, 0, 0, 0, 0, 0, 0, 0, 0, 0, 0, 0, ...</td>\n",
              "      <td>44000</td>\n",
              "      <td>-32767</td>\n",
              "      <td>32511</td>\n",
              "      <td>-1.540170</td>\n",
              "      <td>-27107</td>\n",
              "      <td>5265</td>\n",
              "      <td>2.772034e+07</td>\n",
              "      <td>6.174929</td>\n",
              "      <td>-21108.702549</td>\n",
              "      <td>9184733</td>\n",
              "    </tr>\n",
              "    <tr>\n",
              "      <th>136</th>\n",
              "      <td>0</td>\n",
              "      <td>[0, 0, 0, 0, 0, 0, 0, 0, 0, 0, 0, 0, 0, 0, 0, ...</td>\n",
              "      <td>44000</td>\n",
              "      <td>-32767</td>\n",
              "      <td>32511</td>\n",
              "      <td>4.235682</td>\n",
              "      <td>74548</td>\n",
              "      <td>5802</td>\n",
              "      <td>3.366933e+07</td>\n",
              "      <td>5.603413</td>\n",
              "      <td>7675.505714</td>\n",
              "      <td>11642960</td>\n",
              "    </tr>\n",
              "    <tr>\n",
              "      <th>137</th>\n",
              "      <td>0</td>\n",
              "      <td>[0, 0, 0, 0, 0, 0, 0, 0, 0, 0, 0, 0, 0, 0, 0, ...</td>\n",
              "      <td>44000</td>\n",
              "      <td>-32767</td>\n",
              "      <td>32511</td>\n",
              "      <td>1.893125</td>\n",
              "      <td>33319</td>\n",
              "      <td>5356</td>\n",
              "      <td>2.868911e+07</td>\n",
              "      <td>6.070015</td>\n",
              "      <td>17173.192473</td>\n",
              "      <td>10501079</td>\n",
              "    </tr>\n",
              "    <tr>\n",
              "      <th>138</th>\n",
              "      <td>0</td>\n",
              "      <td>[0, 0, 0, 0, 0, 0, 0, 0, 0, 0, 0, 0, 0, 0, 0, ...</td>\n",
              "      <td>44000</td>\n",
              "      <td>-32767</td>\n",
              "      <td>32511</td>\n",
              "      <td>-0.783295</td>\n",
              "      <td>-13786</td>\n",
              "      <td>4995</td>\n",
              "      <td>2.495367e+07</td>\n",
              "      <td>6.508709</td>\n",
              "      <td>-41505.411287</td>\n",
              "      <td>8894354</td>\n",
              "    </tr>\n",
              "    <tr>\n",
              "      <th>139</th>\n",
              "      <td>0</td>\n",
              "      <td>[0, 0, 0, 0, 0, 0, 0, 0, 0, 0, 0, 0, 0, 0, 0, ...</td>\n",
              "      <td>44000</td>\n",
              "      <td>-32767</td>\n",
              "      <td>32511</td>\n",
              "      <td>1.790284</td>\n",
              "      <td>31509</td>\n",
              "      <td>5647</td>\n",
              "      <td>3.189345e+07</td>\n",
              "      <td>5.757216</td>\n",
              "      <td>18159.687708</td>\n",
              "      <td>11527213</td>\n",
              "    </tr>\n",
              "  </tbody>\n",
              "</table>\n",
              "<p>140 rows × 12 columns</p>\n",
              "</div>\n",
              "      <button class=\"colab-df-convert\" onclick=\"convertToInteractive('df-4706fb4c-e255-4540-833c-21c9ce372d09')\"\n",
              "              title=\"Convert this dataframe to an interactive table.\"\n",
              "              style=\"display:none;\">\n",
              "        \n",
              "  <svg xmlns=\"http://www.w3.org/2000/svg\" height=\"24px\"viewBox=\"0 0 24 24\"\n",
              "       width=\"24px\">\n",
              "    <path d=\"M0 0h24v24H0V0z\" fill=\"none\"/>\n",
              "    <path d=\"M18.56 5.44l.94 2.06.94-2.06 2.06-.94-2.06-.94-.94-2.06-.94 2.06-2.06.94zm-11 1L8.5 8.5l.94-2.06 2.06-.94-2.06-.94L8.5 2.5l-.94 2.06-2.06.94zm10 10l.94 2.06.94-2.06 2.06-.94-2.06-.94-.94-2.06-.94 2.06-2.06.94z\"/><path d=\"M17.41 7.96l-1.37-1.37c-.4-.4-.92-.59-1.43-.59-.52 0-1.04.2-1.43.59L10.3 9.45l-7.72 7.72c-.78.78-.78 2.05 0 2.83L4 21.41c.39.39.9.59 1.41.59.51 0 1.02-.2 1.41-.59l7.78-7.78 2.81-2.81c.8-.78.8-2.07 0-2.86zM5.41 20L4 18.59l7.72-7.72 1.47 1.35L5.41 20z\"/>\n",
              "  </svg>\n",
              "      </button>\n",
              "      \n",
              "  <style>\n",
              "    .colab-df-container {\n",
              "      display:flex;\n",
              "      flex-wrap:wrap;\n",
              "      gap: 12px;\n",
              "    }\n",
              "\n",
              "    .colab-df-convert {\n",
              "      background-color: #E8F0FE;\n",
              "      border: none;\n",
              "      border-radius: 50%;\n",
              "      cursor: pointer;\n",
              "      display: none;\n",
              "      fill: #1967D2;\n",
              "      height: 32px;\n",
              "      padding: 0 0 0 0;\n",
              "      width: 32px;\n",
              "    }\n",
              "\n",
              "    .colab-df-convert:hover {\n",
              "      background-color: #E2EBFA;\n",
              "      box-shadow: 0px 1px 2px rgba(60, 64, 67, 0.3), 0px 1px 3px 1px rgba(60, 64, 67, 0.15);\n",
              "      fill: #174EA6;\n",
              "    }\n",
              "\n",
              "    [theme=dark] .colab-df-convert {\n",
              "      background-color: #3B4455;\n",
              "      fill: #D2E3FC;\n",
              "    }\n",
              "\n",
              "    [theme=dark] .colab-df-convert:hover {\n",
              "      background-color: #434B5C;\n",
              "      box-shadow: 0px 1px 3px 1px rgba(0, 0, 0, 0.15);\n",
              "      filter: drop-shadow(0px 1px 2px rgba(0, 0, 0, 0.3));\n",
              "      fill: #FFFFFF;\n",
              "    }\n",
              "  </style>\n",
              "\n",
              "      <script>\n",
              "        const buttonEl =\n",
              "          document.querySelector('#df-4706fb4c-e255-4540-833c-21c9ce372d09 button.colab-df-convert');\n",
              "        buttonEl.style.display =\n",
              "          google.colab.kernel.accessAllowed ? 'block' : 'none';\n",
              "\n",
              "        async function convertToInteractive(key) {\n",
              "          const element = document.querySelector('#df-4706fb4c-e255-4540-833c-21c9ce372d09');\n",
              "          const dataTable =\n",
              "            await google.colab.kernel.invokeFunction('convertToInteractive',\n",
              "                                                     [key], {});\n",
              "          if (!dataTable) return;\n",
              "\n",
              "          const docLinkHtml = 'Like what you see? Visit the ' +\n",
              "            '<a target=\"_blank\" href=https://colab.research.google.com/notebooks/data_table.ipynb>data table notebook</a>'\n",
              "            + ' to learn more about interactive tables.';\n",
              "          element.innerHTML = '';\n",
              "          dataTable['output_type'] = 'display_data';\n",
              "          await google.colab.output.renderOutput(dataTable, element);\n",
              "          const docLink = document.createElement('div');\n",
              "          docLink.innerHTML = docLinkHtml;\n",
              "          element.appendChild(docLink);\n",
              "        }\n",
              "      </script>\n",
              "    </div>\n",
              "  </div>\n",
              "  "
            ]
          },
          "metadata": {},
          "execution_count": 177
        }
      ],
      "source": [
        "dataframe_bad = dataframe.loc[dataframe['qualidade']==0]\n",
        "dataframe_bad"
      ]
    },
    {
      "cell_type": "code",
      "source": [
        "dataframe_good = dataframe.loc[dataframe['qualidade']==1]\n",
        "dataframe_good"
      ],
      "metadata": {
        "colab": {
          "base_uri": "https://localhost:8080/",
          "height": 424
        },
        "id": "qAmwYwTG6lUA",
        "outputId": "0a093dd2-8bcd-48dc-f140-4a97e64fdba8"
      },
      "execution_count": null,
      "outputs": [
        {
          "output_type": "execute_result",
          "data": {
            "text/plain": [
              "    qualidade                                               data   rate  \\\n",
              "140         1  [0, 0, 0, 0, 0, 0, 0, 0, 0, 0, 0, 0, 0, 0, 0, ...  44000   \n",
              "141         1  [0, 0, 0, 0, 0, 0, 0, 0, 0, 0, 0, 0, 0, 0, 0, ...  44000   \n",
              "142         1  [0, 0, 0, 0, 0, 0, 0, 0, 0, 0, 0, 0, 0, 0, 0, ...  44000   \n",
              "143         1  [12800, 9216, 7168, -5632, -22271, -21503, -12...  44000   \n",
              "144         1  [-14080, -12544, -6144, 2048, 9984, 16895, 171...  44000   \n",
              "..        ...                                                ...    ...   \n",
              "275         1  [0, 0, 0, 0, 0, 0, 0, 0, 0, 0, 0, 0, 0, 0, 0, ...  44000   \n",
              "276         1  [0, 0, 0, 0, 0, 0, 0, 0, 0, 0, 0, 0, 0, 0, 0, ...  44000   \n",
              "277         1  [0, 0, 0, 0, 0, 0, 0, 0, 0, 0, 0, 0, 0, 0, 0, ...  44000   \n",
              "278         1  [0, 0, 0, 0, 0, 0, 0, 0, 0, 0, 0, 0, 0, 0, 0, ...  44000   \n",
              "279         1  [0, 0, 0, 0, 0, 0, 0, 0, 0, 0, 0, 0, 0, 0, 0, ...  44000   \n",
              "\n",
              "     valorMinimo  valorMaximo  valorMedio   forca valorRMS     variancia  \\\n",
              "140       -32767        32511    4.362500   76780     5956  3.547743e+07   \n",
              "141       -32767        32511    7.301648  128509     6291  3.957708e+07   \n",
              "142       -32767        32511    3.389261   59651     6160  3.795789e+07   \n",
              "143       -32767        32511    6.240909  109840     6148  3.780313e+07   \n",
              "144       -32767        32511    1.717443   30227     5450  2.970666e+07   \n",
              "..           ...          ...         ...     ...      ...           ...   \n",
              "275       -32767        32511   -0.741534  -13051     6741  4.544672e+07   \n",
              "276       -32767        32511   -1.728920  -30429     6890  4.747962e+07   \n",
              "277       -32767        32511   -2.211023  -38914     6473  4.190334e+07   \n",
              "278       -32767        32511    2.517102   44301     7024  4.934118e+07   \n",
              "279       -32767        32511   -0.041420    -729     6355  4.039120e+07   \n",
              "\n",
              "     fatorForma    fatorCrista   energia  \n",
              "140    5.458529    7452.378223  12952784  \n",
              "141    5.167859    4452.556630  15132487  \n",
              "142    5.277760    9592.355535  13726465  \n",
              "143    5.288061    5209.337218  15313178  \n",
              "144    5.965321   18929.883879  11488843  \n",
              "..          ...            ...       ...  \n",
              "275    4.822875  -43842.893265  16045963  \n",
              "276    4.718578  -18804.219659  17295303  \n",
              "277    5.022555  -14704.055096  16379240  \n",
              "278    4.628559   12916.042527  17701361  \n",
              "279    5.115814 -784902.057613  14758175  \n",
              "\n",
              "[140 rows x 12 columns]"
            ],
            "text/html": [
              "\n",
              "  <div id=\"df-1409dbc2-6020-4e29-a1bd-149d92c35f68\">\n",
              "    <div class=\"colab-df-container\">\n",
              "      <div>\n",
              "<style scoped>\n",
              "    .dataframe tbody tr th:only-of-type {\n",
              "        vertical-align: middle;\n",
              "    }\n",
              "\n",
              "    .dataframe tbody tr th {\n",
              "        vertical-align: top;\n",
              "    }\n",
              "\n",
              "    .dataframe thead th {\n",
              "        text-align: right;\n",
              "    }\n",
              "</style>\n",
              "<table border=\"1\" class=\"dataframe\">\n",
              "  <thead>\n",
              "    <tr style=\"text-align: right;\">\n",
              "      <th></th>\n",
              "      <th>qualidade</th>\n",
              "      <th>data</th>\n",
              "      <th>rate</th>\n",
              "      <th>valorMinimo</th>\n",
              "      <th>valorMaximo</th>\n",
              "      <th>valorMedio</th>\n",
              "      <th>forca</th>\n",
              "      <th>valorRMS</th>\n",
              "      <th>variancia</th>\n",
              "      <th>fatorForma</th>\n",
              "      <th>fatorCrista</th>\n",
              "      <th>energia</th>\n",
              "    </tr>\n",
              "  </thead>\n",
              "  <tbody>\n",
              "    <tr>\n",
              "      <th>140</th>\n",
              "      <td>1</td>\n",
              "      <td>[0, 0, 0, 0, 0, 0, 0, 0, 0, 0, 0, 0, 0, 0, 0, ...</td>\n",
              "      <td>44000</td>\n",
              "      <td>-32767</td>\n",
              "      <td>32511</td>\n",
              "      <td>4.362500</td>\n",
              "      <td>76780</td>\n",
              "      <td>5956</td>\n",
              "      <td>3.547743e+07</td>\n",
              "      <td>5.458529</td>\n",
              "      <td>7452.378223</td>\n",
              "      <td>12952784</td>\n",
              "    </tr>\n",
              "    <tr>\n",
              "      <th>141</th>\n",
              "      <td>1</td>\n",
              "      <td>[0, 0, 0, 0, 0, 0, 0, 0, 0, 0, 0, 0, 0, 0, 0, ...</td>\n",
              "      <td>44000</td>\n",
              "      <td>-32767</td>\n",
              "      <td>32511</td>\n",
              "      <td>7.301648</td>\n",
              "      <td>128509</td>\n",
              "      <td>6291</td>\n",
              "      <td>3.957708e+07</td>\n",
              "      <td>5.167859</td>\n",
              "      <td>4452.556630</td>\n",
              "      <td>15132487</td>\n",
              "    </tr>\n",
              "    <tr>\n",
              "      <th>142</th>\n",
              "      <td>1</td>\n",
              "      <td>[0, 0, 0, 0, 0, 0, 0, 0, 0, 0, 0, 0, 0, 0, 0, ...</td>\n",
              "      <td>44000</td>\n",
              "      <td>-32767</td>\n",
              "      <td>32511</td>\n",
              "      <td>3.389261</td>\n",
              "      <td>59651</td>\n",
              "      <td>6160</td>\n",
              "      <td>3.795789e+07</td>\n",
              "      <td>5.277760</td>\n",
              "      <td>9592.355535</td>\n",
              "      <td>13726465</td>\n",
              "    </tr>\n",
              "    <tr>\n",
              "      <th>143</th>\n",
              "      <td>1</td>\n",
              "      <td>[12800, 9216, 7168, -5632, -22271, -21503, -12...</td>\n",
              "      <td>44000</td>\n",
              "      <td>-32767</td>\n",
              "      <td>32511</td>\n",
              "      <td>6.240909</td>\n",
              "      <td>109840</td>\n",
              "      <td>6148</td>\n",
              "      <td>3.780313e+07</td>\n",
              "      <td>5.288061</td>\n",
              "      <td>5209.337218</td>\n",
              "      <td>15313178</td>\n",
              "    </tr>\n",
              "    <tr>\n",
              "      <th>144</th>\n",
              "      <td>1</td>\n",
              "      <td>[-14080, -12544, -6144, 2048, 9984, 16895, 171...</td>\n",
              "      <td>44000</td>\n",
              "      <td>-32767</td>\n",
              "      <td>32511</td>\n",
              "      <td>1.717443</td>\n",
              "      <td>30227</td>\n",
              "      <td>5450</td>\n",
              "      <td>2.970666e+07</td>\n",
              "      <td>5.965321</td>\n",
              "      <td>18929.883879</td>\n",
              "      <td>11488843</td>\n",
              "    </tr>\n",
              "    <tr>\n",
              "      <th>...</th>\n",
              "      <td>...</td>\n",
              "      <td>...</td>\n",
              "      <td>...</td>\n",
              "      <td>...</td>\n",
              "      <td>...</td>\n",
              "      <td>...</td>\n",
              "      <td>...</td>\n",
              "      <td>...</td>\n",
              "      <td>...</td>\n",
              "      <td>...</td>\n",
              "      <td>...</td>\n",
              "      <td>...</td>\n",
              "    </tr>\n",
              "    <tr>\n",
              "      <th>275</th>\n",
              "      <td>1</td>\n",
              "      <td>[0, 0, 0, 0, 0, 0, 0, 0, 0, 0, 0, 0, 0, 0, 0, ...</td>\n",
              "      <td>44000</td>\n",
              "      <td>-32767</td>\n",
              "      <td>32511</td>\n",
              "      <td>-0.741534</td>\n",
              "      <td>-13051</td>\n",
              "      <td>6741</td>\n",
              "      <td>4.544672e+07</td>\n",
              "      <td>4.822875</td>\n",
              "      <td>-43842.893265</td>\n",
              "      <td>16045963</td>\n",
              "    </tr>\n",
              "    <tr>\n",
              "      <th>276</th>\n",
              "      <td>1</td>\n",
              "      <td>[0, 0, 0, 0, 0, 0, 0, 0, 0, 0, 0, 0, 0, 0, 0, ...</td>\n",
              "      <td>44000</td>\n",
              "      <td>-32767</td>\n",
              "      <td>32511</td>\n",
              "      <td>-1.728920</td>\n",
              "      <td>-30429</td>\n",
              "      <td>6890</td>\n",
              "      <td>4.747962e+07</td>\n",
              "      <td>4.718578</td>\n",
              "      <td>-18804.219659</td>\n",
              "      <td>17295303</td>\n",
              "    </tr>\n",
              "    <tr>\n",
              "      <th>277</th>\n",
              "      <td>1</td>\n",
              "      <td>[0, 0, 0, 0, 0, 0, 0, 0, 0, 0, 0, 0, 0, 0, 0, ...</td>\n",
              "      <td>44000</td>\n",
              "      <td>-32767</td>\n",
              "      <td>32511</td>\n",
              "      <td>-2.211023</td>\n",
              "      <td>-38914</td>\n",
              "      <td>6473</td>\n",
              "      <td>4.190334e+07</td>\n",
              "      <td>5.022555</td>\n",
              "      <td>-14704.055096</td>\n",
              "      <td>16379240</td>\n",
              "    </tr>\n",
              "    <tr>\n",
              "      <th>278</th>\n",
              "      <td>1</td>\n",
              "      <td>[0, 0, 0, 0, 0, 0, 0, 0, 0, 0, 0, 0, 0, 0, 0, ...</td>\n",
              "      <td>44000</td>\n",
              "      <td>-32767</td>\n",
              "      <td>32511</td>\n",
              "      <td>2.517102</td>\n",
              "      <td>44301</td>\n",
              "      <td>7024</td>\n",
              "      <td>4.934118e+07</td>\n",
              "      <td>4.628559</td>\n",
              "      <td>12916.042527</td>\n",
              "      <td>17701361</td>\n",
              "    </tr>\n",
              "    <tr>\n",
              "      <th>279</th>\n",
              "      <td>1</td>\n",
              "      <td>[0, 0, 0, 0, 0, 0, 0, 0, 0, 0, 0, 0, 0, 0, 0, ...</td>\n",
              "      <td>44000</td>\n",
              "      <td>-32767</td>\n",
              "      <td>32511</td>\n",
              "      <td>-0.041420</td>\n",
              "      <td>-729</td>\n",
              "      <td>6355</td>\n",
              "      <td>4.039120e+07</td>\n",
              "      <td>5.115814</td>\n",
              "      <td>-784902.057613</td>\n",
              "      <td>14758175</td>\n",
              "    </tr>\n",
              "  </tbody>\n",
              "</table>\n",
              "<p>140 rows × 12 columns</p>\n",
              "</div>\n",
              "      <button class=\"colab-df-convert\" onclick=\"convertToInteractive('df-1409dbc2-6020-4e29-a1bd-149d92c35f68')\"\n",
              "              title=\"Convert this dataframe to an interactive table.\"\n",
              "              style=\"display:none;\">\n",
              "        \n",
              "  <svg xmlns=\"http://www.w3.org/2000/svg\" height=\"24px\"viewBox=\"0 0 24 24\"\n",
              "       width=\"24px\">\n",
              "    <path d=\"M0 0h24v24H0V0z\" fill=\"none\"/>\n",
              "    <path d=\"M18.56 5.44l.94 2.06.94-2.06 2.06-.94-2.06-.94-.94-2.06-.94 2.06-2.06.94zm-11 1L8.5 8.5l.94-2.06 2.06-.94-2.06-.94L8.5 2.5l-.94 2.06-2.06.94zm10 10l.94 2.06.94-2.06 2.06-.94-2.06-.94-.94-2.06-.94 2.06-2.06.94z\"/><path d=\"M17.41 7.96l-1.37-1.37c-.4-.4-.92-.59-1.43-.59-.52 0-1.04.2-1.43.59L10.3 9.45l-7.72 7.72c-.78.78-.78 2.05 0 2.83L4 21.41c.39.39.9.59 1.41.59.51 0 1.02-.2 1.41-.59l7.78-7.78 2.81-2.81c.8-.78.8-2.07 0-2.86zM5.41 20L4 18.59l7.72-7.72 1.47 1.35L5.41 20z\"/>\n",
              "  </svg>\n",
              "      </button>\n",
              "      \n",
              "  <style>\n",
              "    .colab-df-container {\n",
              "      display:flex;\n",
              "      flex-wrap:wrap;\n",
              "      gap: 12px;\n",
              "    }\n",
              "\n",
              "    .colab-df-convert {\n",
              "      background-color: #E8F0FE;\n",
              "      border: none;\n",
              "      border-radius: 50%;\n",
              "      cursor: pointer;\n",
              "      display: none;\n",
              "      fill: #1967D2;\n",
              "      height: 32px;\n",
              "      padding: 0 0 0 0;\n",
              "      width: 32px;\n",
              "    }\n",
              "\n",
              "    .colab-df-convert:hover {\n",
              "      background-color: #E2EBFA;\n",
              "      box-shadow: 0px 1px 2px rgba(60, 64, 67, 0.3), 0px 1px 3px 1px rgba(60, 64, 67, 0.15);\n",
              "      fill: #174EA6;\n",
              "    }\n",
              "\n",
              "    [theme=dark] .colab-df-convert {\n",
              "      background-color: #3B4455;\n",
              "      fill: #D2E3FC;\n",
              "    }\n",
              "\n",
              "    [theme=dark] .colab-df-convert:hover {\n",
              "      background-color: #434B5C;\n",
              "      box-shadow: 0px 1px 3px 1px rgba(0, 0, 0, 0.15);\n",
              "      filter: drop-shadow(0px 1px 2px rgba(0, 0, 0, 0.3));\n",
              "      fill: #FFFFFF;\n",
              "    }\n",
              "  </style>\n",
              "\n",
              "      <script>\n",
              "        const buttonEl =\n",
              "          document.querySelector('#df-1409dbc2-6020-4e29-a1bd-149d92c35f68 button.colab-df-convert');\n",
              "        buttonEl.style.display =\n",
              "          google.colab.kernel.accessAllowed ? 'block' : 'none';\n",
              "\n",
              "        async function convertToInteractive(key) {\n",
              "          const element = document.querySelector('#df-1409dbc2-6020-4e29-a1bd-149d92c35f68');\n",
              "          const dataTable =\n",
              "            await google.colab.kernel.invokeFunction('convertToInteractive',\n",
              "                                                     [key], {});\n",
              "          if (!dataTable) return;\n",
              "\n",
              "          const docLinkHtml = 'Like what you see? Visit the ' +\n",
              "            '<a target=\"_blank\" href=https://colab.research.google.com/notebooks/data_table.ipynb>data table notebook</a>'\n",
              "            + ' to learn more about interactive tables.';\n",
              "          element.innerHTML = '';\n",
              "          dataTable['output_type'] = 'display_data';\n",
              "          await google.colab.output.renderOutput(dataTable, element);\n",
              "          const docLink = document.createElement('div');\n",
              "          docLink.innerHTML = docLinkHtml;\n",
              "          element.appendChild(docLink);\n",
              "        }\n",
              "      </script>\n",
              "    </div>\n",
              "  </div>\n",
              "  "
            ]
          },
          "metadata": {},
          "execution_count": 178
        }
      ]
    },
    {
      "cell_type": "code",
      "source": [
        "df_bad = dataframe_bad.loc[[5]]\n",
        "df_bad"
      ],
      "metadata": {
        "id": "JbyBIaklT4nI",
        "colab": {
          "base_uri": "https://localhost:8080/",
          "height": 81
        },
        "outputId": "2d1b0bac-cee5-40e2-f001-48349982c7d9"
      },
      "execution_count": null,
      "outputs": [
        {
          "output_type": "execute_result",
          "data": {
            "text/plain": [
              "  qualidade                                               data   rate  \\\n",
              "5         0  [0, 0, 0, 0, 0, 0, 0, 0, 0, 0, 0, 0, 0, 0, 0, ...  44000   \n",
              "\n",
              "   valorMinimo  valorMaximo  valorMedio  forca valorRMS     variancia  \\\n",
              "5       -32767        32511    0.901591  15868     4118  1.696236e+07   \n",
              "\n",
              "   fatorForma   fatorCrista  energia  \n",
              "5    7.894852  36059.591631  6523690  "
            ],
            "text/html": [
              "\n",
              "  <div id=\"df-19793a06-2a8d-48f8-971a-12a7967145e5\">\n",
              "    <div class=\"colab-df-container\">\n",
              "      <div>\n",
              "<style scoped>\n",
              "    .dataframe tbody tr th:only-of-type {\n",
              "        vertical-align: middle;\n",
              "    }\n",
              "\n",
              "    .dataframe tbody tr th {\n",
              "        vertical-align: top;\n",
              "    }\n",
              "\n",
              "    .dataframe thead th {\n",
              "        text-align: right;\n",
              "    }\n",
              "</style>\n",
              "<table border=\"1\" class=\"dataframe\">\n",
              "  <thead>\n",
              "    <tr style=\"text-align: right;\">\n",
              "      <th></th>\n",
              "      <th>qualidade</th>\n",
              "      <th>data</th>\n",
              "      <th>rate</th>\n",
              "      <th>valorMinimo</th>\n",
              "      <th>valorMaximo</th>\n",
              "      <th>valorMedio</th>\n",
              "      <th>forca</th>\n",
              "      <th>valorRMS</th>\n",
              "      <th>variancia</th>\n",
              "      <th>fatorForma</th>\n",
              "      <th>fatorCrista</th>\n",
              "      <th>energia</th>\n",
              "    </tr>\n",
              "  </thead>\n",
              "  <tbody>\n",
              "    <tr>\n",
              "      <th>5</th>\n",
              "      <td>0</td>\n",
              "      <td>[0, 0, 0, 0, 0, 0, 0, 0, 0, 0, 0, 0, 0, 0, 0, ...</td>\n",
              "      <td>44000</td>\n",
              "      <td>-32767</td>\n",
              "      <td>32511</td>\n",
              "      <td>0.901591</td>\n",
              "      <td>15868</td>\n",
              "      <td>4118</td>\n",
              "      <td>1.696236e+07</td>\n",
              "      <td>7.894852</td>\n",
              "      <td>36059.591631</td>\n",
              "      <td>6523690</td>\n",
              "    </tr>\n",
              "  </tbody>\n",
              "</table>\n",
              "</div>\n",
              "      <button class=\"colab-df-convert\" onclick=\"convertToInteractive('df-19793a06-2a8d-48f8-971a-12a7967145e5')\"\n",
              "              title=\"Convert this dataframe to an interactive table.\"\n",
              "              style=\"display:none;\">\n",
              "        \n",
              "  <svg xmlns=\"http://www.w3.org/2000/svg\" height=\"24px\"viewBox=\"0 0 24 24\"\n",
              "       width=\"24px\">\n",
              "    <path d=\"M0 0h24v24H0V0z\" fill=\"none\"/>\n",
              "    <path d=\"M18.56 5.44l.94 2.06.94-2.06 2.06-.94-2.06-.94-.94-2.06-.94 2.06-2.06.94zm-11 1L8.5 8.5l.94-2.06 2.06-.94-2.06-.94L8.5 2.5l-.94 2.06-2.06.94zm10 10l.94 2.06.94-2.06 2.06-.94-2.06-.94-.94-2.06-.94 2.06-2.06.94z\"/><path d=\"M17.41 7.96l-1.37-1.37c-.4-.4-.92-.59-1.43-.59-.52 0-1.04.2-1.43.59L10.3 9.45l-7.72 7.72c-.78.78-.78 2.05 0 2.83L4 21.41c.39.39.9.59 1.41.59.51 0 1.02-.2 1.41-.59l7.78-7.78 2.81-2.81c.8-.78.8-2.07 0-2.86zM5.41 20L4 18.59l7.72-7.72 1.47 1.35L5.41 20z\"/>\n",
              "  </svg>\n",
              "      </button>\n",
              "      \n",
              "  <style>\n",
              "    .colab-df-container {\n",
              "      display:flex;\n",
              "      flex-wrap:wrap;\n",
              "      gap: 12px;\n",
              "    }\n",
              "\n",
              "    .colab-df-convert {\n",
              "      background-color: #E8F0FE;\n",
              "      border: none;\n",
              "      border-radius: 50%;\n",
              "      cursor: pointer;\n",
              "      display: none;\n",
              "      fill: #1967D2;\n",
              "      height: 32px;\n",
              "      padding: 0 0 0 0;\n",
              "      width: 32px;\n",
              "    }\n",
              "\n",
              "    .colab-df-convert:hover {\n",
              "      background-color: #E2EBFA;\n",
              "      box-shadow: 0px 1px 2px rgba(60, 64, 67, 0.3), 0px 1px 3px 1px rgba(60, 64, 67, 0.15);\n",
              "      fill: #174EA6;\n",
              "    }\n",
              "\n",
              "    [theme=dark] .colab-df-convert {\n",
              "      background-color: #3B4455;\n",
              "      fill: #D2E3FC;\n",
              "    }\n",
              "\n",
              "    [theme=dark] .colab-df-convert:hover {\n",
              "      background-color: #434B5C;\n",
              "      box-shadow: 0px 1px 3px 1px rgba(0, 0, 0, 0.15);\n",
              "      filter: drop-shadow(0px 1px 2px rgba(0, 0, 0, 0.3));\n",
              "      fill: #FFFFFF;\n",
              "    }\n",
              "  </style>\n",
              "\n",
              "      <script>\n",
              "        const buttonEl =\n",
              "          document.querySelector('#df-19793a06-2a8d-48f8-971a-12a7967145e5 button.colab-df-convert');\n",
              "        buttonEl.style.display =\n",
              "          google.colab.kernel.accessAllowed ? 'block' : 'none';\n",
              "\n",
              "        async function convertToInteractive(key) {\n",
              "          const element = document.querySelector('#df-19793a06-2a8d-48f8-971a-12a7967145e5');\n",
              "          const dataTable =\n",
              "            await google.colab.kernel.invokeFunction('convertToInteractive',\n",
              "                                                     [key], {});\n",
              "          if (!dataTable) return;\n",
              "\n",
              "          const docLinkHtml = 'Like what you see? Visit the ' +\n",
              "            '<a target=\"_blank\" href=https://colab.research.google.com/notebooks/data_table.ipynb>data table notebook</a>'\n",
              "            + ' to learn more about interactive tables.';\n",
              "          element.innerHTML = '';\n",
              "          dataTable['output_type'] = 'display_data';\n",
              "          await google.colab.output.renderOutput(dataTable, element);\n",
              "          const docLink = document.createElement('div');\n",
              "          docLink.innerHTML = docLinkHtml;\n",
              "          element.appendChild(docLink);\n",
              "        }\n",
              "      </script>\n",
              "    </div>\n",
              "  </div>\n",
              "  "
            ]
          },
          "metadata": {},
          "execution_count": 179
        }
      ]
    },
    {
      "cell_type": "code",
      "source": [
        "df_good = dataframe_good.loc[[144]]\n",
        "df_good"
      ],
      "metadata": {
        "colab": {
          "base_uri": "https://localhost:8080/",
          "height": 81
        },
        "id": "qREns01I6oeU",
        "outputId": "52b23419-ea65-4347-fec3-cf822507cd4b"
      },
      "execution_count": null,
      "outputs": [
        {
          "output_type": "execute_result",
          "data": {
            "text/plain": [
              "    qualidade                                               data   rate  \\\n",
              "144         1  [-14080, -12544, -6144, 2048, 9984, 16895, 171...  44000   \n",
              "\n",
              "     valorMinimo  valorMaximo  valorMedio  forca valorRMS     variancia  \\\n",
              "144       -32767        32511    1.717443  30227     5450  2.970666e+07   \n",
              "\n",
              "     fatorForma   fatorCrista   energia  \n",
              "144    5.965321  18929.883879  11488843  "
            ],
            "text/html": [
              "\n",
              "  <div id=\"df-6ada302e-0234-473d-9f47-b6462dab7c5c\">\n",
              "    <div class=\"colab-df-container\">\n",
              "      <div>\n",
              "<style scoped>\n",
              "    .dataframe tbody tr th:only-of-type {\n",
              "        vertical-align: middle;\n",
              "    }\n",
              "\n",
              "    .dataframe tbody tr th {\n",
              "        vertical-align: top;\n",
              "    }\n",
              "\n",
              "    .dataframe thead th {\n",
              "        text-align: right;\n",
              "    }\n",
              "</style>\n",
              "<table border=\"1\" class=\"dataframe\">\n",
              "  <thead>\n",
              "    <tr style=\"text-align: right;\">\n",
              "      <th></th>\n",
              "      <th>qualidade</th>\n",
              "      <th>data</th>\n",
              "      <th>rate</th>\n",
              "      <th>valorMinimo</th>\n",
              "      <th>valorMaximo</th>\n",
              "      <th>valorMedio</th>\n",
              "      <th>forca</th>\n",
              "      <th>valorRMS</th>\n",
              "      <th>variancia</th>\n",
              "      <th>fatorForma</th>\n",
              "      <th>fatorCrista</th>\n",
              "      <th>energia</th>\n",
              "    </tr>\n",
              "  </thead>\n",
              "  <tbody>\n",
              "    <tr>\n",
              "      <th>144</th>\n",
              "      <td>1</td>\n",
              "      <td>[-14080, -12544, -6144, 2048, 9984, 16895, 171...</td>\n",
              "      <td>44000</td>\n",
              "      <td>-32767</td>\n",
              "      <td>32511</td>\n",
              "      <td>1.717443</td>\n",
              "      <td>30227</td>\n",
              "      <td>5450</td>\n",
              "      <td>2.970666e+07</td>\n",
              "      <td>5.965321</td>\n",
              "      <td>18929.883879</td>\n",
              "      <td>11488843</td>\n",
              "    </tr>\n",
              "  </tbody>\n",
              "</table>\n",
              "</div>\n",
              "      <button class=\"colab-df-convert\" onclick=\"convertToInteractive('df-6ada302e-0234-473d-9f47-b6462dab7c5c')\"\n",
              "              title=\"Convert this dataframe to an interactive table.\"\n",
              "              style=\"display:none;\">\n",
              "        \n",
              "  <svg xmlns=\"http://www.w3.org/2000/svg\" height=\"24px\"viewBox=\"0 0 24 24\"\n",
              "       width=\"24px\">\n",
              "    <path d=\"M0 0h24v24H0V0z\" fill=\"none\"/>\n",
              "    <path d=\"M18.56 5.44l.94 2.06.94-2.06 2.06-.94-2.06-.94-.94-2.06-.94 2.06-2.06.94zm-11 1L8.5 8.5l.94-2.06 2.06-.94-2.06-.94L8.5 2.5l-.94 2.06-2.06.94zm10 10l.94 2.06.94-2.06 2.06-.94-2.06-.94-.94-2.06-.94 2.06-2.06.94z\"/><path d=\"M17.41 7.96l-1.37-1.37c-.4-.4-.92-.59-1.43-.59-.52 0-1.04.2-1.43.59L10.3 9.45l-7.72 7.72c-.78.78-.78 2.05 0 2.83L4 21.41c.39.39.9.59 1.41.59.51 0 1.02-.2 1.41-.59l7.78-7.78 2.81-2.81c.8-.78.8-2.07 0-2.86zM5.41 20L4 18.59l7.72-7.72 1.47 1.35L5.41 20z\"/>\n",
              "  </svg>\n",
              "      </button>\n",
              "      \n",
              "  <style>\n",
              "    .colab-df-container {\n",
              "      display:flex;\n",
              "      flex-wrap:wrap;\n",
              "      gap: 12px;\n",
              "    }\n",
              "\n",
              "    .colab-df-convert {\n",
              "      background-color: #E8F0FE;\n",
              "      border: none;\n",
              "      border-radius: 50%;\n",
              "      cursor: pointer;\n",
              "      display: none;\n",
              "      fill: #1967D2;\n",
              "      height: 32px;\n",
              "      padding: 0 0 0 0;\n",
              "      width: 32px;\n",
              "    }\n",
              "\n",
              "    .colab-df-convert:hover {\n",
              "      background-color: #E2EBFA;\n",
              "      box-shadow: 0px 1px 2px rgba(60, 64, 67, 0.3), 0px 1px 3px 1px rgba(60, 64, 67, 0.15);\n",
              "      fill: #174EA6;\n",
              "    }\n",
              "\n",
              "    [theme=dark] .colab-df-convert {\n",
              "      background-color: #3B4455;\n",
              "      fill: #D2E3FC;\n",
              "    }\n",
              "\n",
              "    [theme=dark] .colab-df-convert:hover {\n",
              "      background-color: #434B5C;\n",
              "      box-shadow: 0px 1px 3px 1px rgba(0, 0, 0, 0.15);\n",
              "      filter: drop-shadow(0px 1px 2px rgba(0, 0, 0, 0.3));\n",
              "      fill: #FFFFFF;\n",
              "    }\n",
              "  </style>\n",
              "\n",
              "      <script>\n",
              "        const buttonEl =\n",
              "          document.querySelector('#df-6ada302e-0234-473d-9f47-b6462dab7c5c button.colab-df-convert');\n",
              "        buttonEl.style.display =\n",
              "          google.colab.kernel.accessAllowed ? 'block' : 'none';\n",
              "\n",
              "        async function convertToInteractive(key) {\n",
              "          const element = document.querySelector('#df-6ada302e-0234-473d-9f47-b6462dab7c5c');\n",
              "          const dataTable =\n",
              "            await google.colab.kernel.invokeFunction('convertToInteractive',\n",
              "                                                     [key], {});\n",
              "          if (!dataTable) return;\n",
              "\n",
              "          const docLinkHtml = 'Like what you see? Visit the ' +\n",
              "            '<a target=\"_blank\" href=https://colab.research.google.com/notebooks/data_table.ipynb>data table notebook</a>'\n",
              "            + ' to learn more about interactive tables.';\n",
              "          element.innerHTML = '';\n",
              "          dataTable['output_type'] = 'display_data';\n",
              "          await google.colab.output.renderOutput(dataTable, element);\n",
              "          const docLink = document.createElement('div');\n",
              "          docLink.innerHTML = docLinkHtml;\n",
              "          element.appendChild(docLink);\n",
              "        }\n",
              "      </script>\n",
              "    </div>\n",
              "  </div>\n",
              "  "
            ]
          },
          "metadata": {},
          "execution_count": 180
        }
      ]
    },
    {
      "cell_type": "code",
      "source": [
        "df_filtrado = pd.concat([df_bad, df_good])\n",
        "df_filtrado"
      ],
      "metadata": {
        "colab": {
          "base_uri": "https://localhost:8080/",
          "height": 112
        },
        "id": "HmHFzEeB6qBt",
        "outputId": "6860b4f4-3a44-46ad-fad3-41b766978810"
      },
      "execution_count": null,
      "outputs": [
        {
          "output_type": "execute_result",
          "data": {
            "text/plain": [
              "    qualidade                                               data   rate  \\\n",
              "5           0  [0, 0, 0, 0, 0, 0, 0, 0, 0, 0, 0, 0, 0, 0, 0, ...  44000   \n",
              "144         1  [-14080, -12544, -6144, 2048, 9984, 16895, 171...  44000   \n",
              "\n",
              "     valorMinimo  valorMaximo  valorMedio  forca valorRMS     variancia  \\\n",
              "5         -32767        32511    0.901591  15868     4118  1.696236e+07   \n",
              "144       -32767        32511    1.717443  30227     5450  2.970666e+07   \n",
              "\n",
              "     fatorForma   fatorCrista   energia  \n",
              "5      7.894852  36059.591631   6523690  \n",
              "144    5.965321  18929.883879  11488843  "
            ],
            "text/html": [
              "\n",
              "  <div id=\"df-f1a26c47-2e79-4d10-b362-183a19fa7d2a\">\n",
              "    <div class=\"colab-df-container\">\n",
              "      <div>\n",
              "<style scoped>\n",
              "    .dataframe tbody tr th:only-of-type {\n",
              "        vertical-align: middle;\n",
              "    }\n",
              "\n",
              "    .dataframe tbody tr th {\n",
              "        vertical-align: top;\n",
              "    }\n",
              "\n",
              "    .dataframe thead th {\n",
              "        text-align: right;\n",
              "    }\n",
              "</style>\n",
              "<table border=\"1\" class=\"dataframe\">\n",
              "  <thead>\n",
              "    <tr style=\"text-align: right;\">\n",
              "      <th></th>\n",
              "      <th>qualidade</th>\n",
              "      <th>data</th>\n",
              "      <th>rate</th>\n",
              "      <th>valorMinimo</th>\n",
              "      <th>valorMaximo</th>\n",
              "      <th>valorMedio</th>\n",
              "      <th>forca</th>\n",
              "      <th>valorRMS</th>\n",
              "      <th>variancia</th>\n",
              "      <th>fatorForma</th>\n",
              "      <th>fatorCrista</th>\n",
              "      <th>energia</th>\n",
              "    </tr>\n",
              "  </thead>\n",
              "  <tbody>\n",
              "    <tr>\n",
              "      <th>5</th>\n",
              "      <td>0</td>\n",
              "      <td>[0, 0, 0, 0, 0, 0, 0, 0, 0, 0, 0, 0, 0, 0, 0, ...</td>\n",
              "      <td>44000</td>\n",
              "      <td>-32767</td>\n",
              "      <td>32511</td>\n",
              "      <td>0.901591</td>\n",
              "      <td>15868</td>\n",
              "      <td>4118</td>\n",
              "      <td>1.696236e+07</td>\n",
              "      <td>7.894852</td>\n",
              "      <td>36059.591631</td>\n",
              "      <td>6523690</td>\n",
              "    </tr>\n",
              "    <tr>\n",
              "      <th>144</th>\n",
              "      <td>1</td>\n",
              "      <td>[-14080, -12544, -6144, 2048, 9984, 16895, 171...</td>\n",
              "      <td>44000</td>\n",
              "      <td>-32767</td>\n",
              "      <td>32511</td>\n",
              "      <td>1.717443</td>\n",
              "      <td>30227</td>\n",
              "      <td>5450</td>\n",
              "      <td>2.970666e+07</td>\n",
              "      <td>5.965321</td>\n",
              "      <td>18929.883879</td>\n",
              "      <td>11488843</td>\n",
              "    </tr>\n",
              "  </tbody>\n",
              "</table>\n",
              "</div>\n",
              "      <button class=\"colab-df-convert\" onclick=\"convertToInteractive('df-f1a26c47-2e79-4d10-b362-183a19fa7d2a')\"\n",
              "              title=\"Convert this dataframe to an interactive table.\"\n",
              "              style=\"display:none;\">\n",
              "        \n",
              "  <svg xmlns=\"http://www.w3.org/2000/svg\" height=\"24px\"viewBox=\"0 0 24 24\"\n",
              "       width=\"24px\">\n",
              "    <path d=\"M0 0h24v24H0V0z\" fill=\"none\"/>\n",
              "    <path d=\"M18.56 5.44l.94 2.06.94-2.06 2.06-.94-2.06-.94-.94-2.06-.94 2.06-2.06.94zm-11 1L8.5 8.5l.94-2.06 2.06-.94-2.06-.94L8.5 2.5l-.94 2.06-2.06.94zm10 10l.94 2.06.94-2.06 2.06-.94-2.06-.94-.94-2.06-.94 2.06-2.06.94z\"/><path d=\"M17.41 7.96l-1.37-1.37c-.4-.4-.92-.59-1.43-.59-.52 0-1.04.2-1.43.59L10.3 9.45l-7.72 7.72c-.78.78-.78 2.05 0 2.83L4 21.41c.39.39.9.59 1.41.59.51 0 1.02-.2 1.41-.59l7.78-7.78 2.81-2.81c.8-.78.8-2.07 0-2.86zM5.41 20L4 18.59l7.72-7.72 1.47 1.35L5.41 20z\"/>\n",
              "  </svg>\n",
              "      </button>\n",
              "      \n",
              "  <style>\n",
              "    .colab-df-container {\n",
              "      display:flex;\n",
              "      flex-wrap:wrap;\n",
              "      gap: 12px;\n",
              "    }\n",
              "\n",
              "    .colab-df-convert {\n",
              "      background-color: #E8F0FE;\n",
              "      border: none;\n",
              "      border-radius: 50%;\n",
              "      cursor: pointer;\n",
              "      display: none;\n",
              "      fill: #1967D2;\n",
              "      height: 32px;\n",
              "      padding: 0 0 0 0;\n",
              "      width: 32px;\n",
              "    }\n",
              "\n",
              "    .colab-df-convert:hover {\n",
              "      background-color: #E2EBFA;\n",
              "      box-shadow: 0px 1px 2px rgba(60, 64, 67, 0.3), 0px 1px 3px 1px rgba(60, 64, 67, 0.15);\n",
              "      fill: #174EA6;\n",
              "    }\n",
              "\n",
              "    [theme=dark] .colab-df-convert {\n",
              "      background-color: #3B4455;\n",
              "      fill: #D2E3FC;\n",
              "    }\n",
              "\n",
              "    [theme=dark] .colab-df-convert:hover {\n",
              "      background-color: #434B5C;\n",
              "      box-shadow: 0px 1px 3px 1px rgba(0, 0, 0, 0.15);\n",
              "      filter: drop-shadow(0px 1px 2px rgba(0, 0, 0, 0.3));\n",
              "      fill: #FFFFFF;\n",
              "    }\n",
              "  </style>\n",
              "\n",
              "      <script>\n",
              "        const buttonEl =\n",
              "          document.querySelector('#df-f1a26c47-2e79-4d10-b362-183a19fa7d2a button.colab-df-convert');\n",
              "        buttonEl.style.display =\n",
              "          google.colab.kernel.accessAllowed ? 'block' : 'none';\n",
              "\n",
              "        async function convertToInteractive(key) {\n",
              "          const element = document.querySelector('#df-f1a26c47-2e79-4d10-b362-183a19fa7d2a');\n",
              "          const dataTable =\n",
              "            await google.colab.kernel.invokeFunction('convertToInteractive',\n",
              "                                                     [key], {});\n",
              "          if (!dataTable) return;\n",
              "\n",
              "          const docLinkHtml = 'Like what you see? Visit the ' +\n",
              "            '<a target=\"_blank\" href=https://colab.research.google.com/notebooks/data_table.ipynb>data table notebook</a>'\n",
              "            + ' to learn more about interactive tables.';\n",
              "          element.innerHTML = '';\n",
              "          dataTable['output_type'] = 'display_data';\n",
              "          await google.colab.output.renderOutput(dataTable, element);\n",
              "          const docLink = document.createElement('div');\n",
              "          docLink.innerHTML = docLinkHtml;\n",
              "          element.appendChild(docLink);\n",
              "        }\n",
              "      </script>\n",
              "    </div>\n",
              "  </div>\n",
              "  "
            ]
          },
          "metadata": {},
          "execution_count": 181
        }
      ]
    },
    {
      "cell_type": "markdown",
      "source": [
        "COMPARAÇÃO GRAFICA DO DATASET FILTRADO"
      ],
      "metadata": {
        "id": "oy_ZDYWC6vgQ"
      }
    },
    {
      "cell_type": "code",
      "source": [
        "sns.barplot('qualidade','rate',data=df_filtrado)"
      ],
      "metadata": {
        "colab": {
          "base_uri": "https://localhost:8080/",
          "height": 351
        },
        "id": "81YD8bWDAJ0l",
        "outputId": "0e1618ab-16c7-41e5-b805-9db450e3e923"
      },
      "execution_count": null,
      "outputs": [
        {
          "output_type": "stream",
          "name": "stderr",
          "text": [
            "/usr/local/lib/python3.8/dist-packages/seaborn/_decorators.py:36: FutureWarning: Pass the following variables as keyword args: x, y. From version 0.12, the only valid positional argument will be `data`, and passing other arguments without an explicit keyword will result in an error or misinterpretation.\n",
            "  warnings.warn(\n"
          ]
        },
        {
          "output_type": "execute_result",
          "data": {
            "text/plain": [
              "<matplotlib.axes._subplots.AxesSubplot at 0x7f96c31f4340>"
            ]
          },
          "metadata": {},
          "execution_count": 187
        },
        {
          "output_type": "display_data",
          "data": {
            "text/plain": [
              "<Figure size 432x288 with 1 Axes>"
            ],
            "image/png": "[encoded data removed]"
          },
          "metadata": {
            "needs_background": "light"
          }
        }
      ]
    },
    {
      "cell_type": "code",
      "source": [
        "sns.barplot('qualidade','valorMinimo',data=df_filtrado)"
      ],
      "metadata": {
        "colab": {
          "base_uri": "https://localhost:8080/",
          "height": 355
        },
        "id": "-aATORNdANxE",
        "outputId": "06474489-d995-43d0-d66d-4b5120fb1213"
      },
      "execution_count": null,
      "outputs": [
        {
          "output_type": "stream",
          "name": "stderr",
          "text": [
            "/usr/local/lib/python3.8/dist-packages/seaborn/_decorators.py:36: FutureWarning: Pass the following variables as keyword args: x, y. From version 0.12, the only valid positional argument will be `data`, and passing other arguments without an explicit keyword will result in an error or misinterpretation.\n",
            "  warnings.warn(\n"
          ]
        },
        {
          "output_type": "execute_result",
          "data": {
            "text/plain": [
              "<matplotlib.axes._subplots.AxesSubplot at 0x7f96c31c3e80>"
            ]
          },
          "metadata": {},
          "execution_count": 188
        },
        {
          "output_type": "display_data",
          "data": {
            "text/plain": [
              "<Figure size 432x288 with 1 Axes>"
            ],
            "image/png": "[encoded data removed]"
          },
          "metadata": {
            "needs_background": "light"
          }
        }
      ]
    },
    {
      "cell_type": "code",
      "source": [
        "sns.barplot('qualidade','valorMaximo',data=df_filtrado)"
      ],
      "metadata": {
        "colab": {
          "base_uri": "https://localhost:8080/",
          "height": 351
        },
        "id": "uT825PRf7P_7",
        "outputId": "6d373459-c548-48df-e6c6-8529bb573ca9"
      },
      "execution_count": null,
      "outputs": [
        {
          "output_type": "stream",
          "name": "stderr",
          "text": [
            "/usr/local/lib/python3.8/dist-packages/seaborn/_decorators.py:36: FutureWarning: Pass the following variables as keyword args: x, y. From version 0.12, the only valid positional argument will be `data`, and passing other arguments without an explicit keyword will result in an error or misinterpretation.\n",
            "  warnings.warn(\n"
          ]
        },
        {
          "output_type": "execute_result",
          "data": {
            "text/plain": [
              "<matplotlib.axes._subplots.AxesSubplot at 0x7f96c4c74a60>"
            ]
          },
          "metadata": {},
          "execution_count": 182
        },
        {
          "output_type": "display_data",
          "data": {
            "text/plain": [
              "<Figure size 432x288 with 1 Axes>"
            ],
            "image/png": "[encoded data removed]"
          },
          "metadata": {
            "needs_background": "light"
          }
        }
      ]
    },
    {
      "cell_type": "code",
      "source": [
        "sns.barplot('qualidade','valorMedio',data=df_filtrado)"
      ],
      "metadata": {
        "colab": {
          "base_uri": "https://localhost:8080/",
          "height": 351
        },
        "id": "sifgkkYeAR6S",
        "outputId": "0b41d6f8-e5f3-49be-a8d6-b88ec83e8077"
      },
      "execution_count": null,
      "outputs": [
        {
          "output_type": "stream",
          "name": "stderr",
          "text": [
            "/usr/local/lib/python3.8/dist-packages/seaborn/_decorators.py:36: FutureWarning: Pass the following variables as keyword args: x, y. From version 0.12, the only valid positional argument will be `data`, and passing other arguments without an explicit keyword will result in an error or misinterpretation.\n",
            "  warnings.warn(\n"
          ]
        },
        {
          "output_type": "execute_result",
          "data": {
            "text/plain": [
              "<matplotlib.axes._subplots.AxesSubplot at 0x7f96c3191eb0>"
            ]
          },
          "metadata": {},
          "execution_count": 189
        },
        {
          "output_type": "display_data",
          "data": {
            "text/plain": [
              "<Figure size 432x288 with 1 Axes>"
            ],
            "image/png": "[encoded data removed]"
          },
          "metadata": {
            "needs_background": "light"
          }
        }
      ]
    },
    {
      "cell_type": "code",
      "source": [
        "sns.barplot('qualidade','forca',data=df_filtrado)"
      ],
      "metadata": {
        "colab": {
          "base_uri": "https://localhost:8080/",
          "height": 351
        },
        "id": "KTrBtI93AWvO",
        "outputId": "e75b063c-704c-48e7-e7b4-0f9e7f46bed4"
      },
      "execution_count": null,
      "outputs": [
        {
          "output_type": "stream",
          "name": "stderr",
          "text": [
            "/usr/local/lib/python3.8/dist-packages/seaborn/_decorators.py:36: FutureWarning: Pass the following variables as keyword args: x, y. From version 0.12, the only valid positional argument will be `data`, and passing other arguments without an explicit keyword will result in an error or misinterpretation.\n",
            "  warnings.warn(\n"
          ]
        },
        {
          "output_type": "execute_result",
          "data": {
            "text/plain": [
              "<matplotlib.axes._subplots.AxesSubplot at 0x7f96c30e2730>"
            ]
          },
          "metadata": {},
          "execution_count": 190
        },
        {
          "output_type": "display_data",
          "data": {
            "text/plain": [
              "<Figure size 432x288 with 1 Axes>"
            ],
            "image/png": "[encoded data removed]"
          },
          "metadata": {
            "needs_background": "light"
          }
        }
      ]
    },
    {
      "cell_type": "code",
      "source": [
        "sns.barplot('qualidade','valorRMS',data=df_filtrado)"
      ],
      "metadata": {
        "colab": {
          "base_uri": "https://localhost:8080/",
          "height": 351
        },
        "id": "hNTKM7h16wC7",
        "outputId": "a5c6629e-0c58-426b-cc7d-9ece9826eee0"
      },
      "execution_count": null,
      "outputs": [
        {
          "output_type": "stream",
          "name": "stderr",
          "text": [
            "/usr/local/lib/python3.8/dist-packages/seaborn/_decorators.py:36: FutureWarning: Pass the following variables as keyword args: x, y. From version 0.12, the only valid positional argument will be `data`, and passing other arguments without an explicit keyword will result in an error or misinterpretation.\n",
            "  warnings.warn(\n"
          ]
        },
        {
          "output_type": "execute_result",
          "data": {
            "text/plain": [
              "<matplotlib.axes._subplots.AxesSubplot at 0x7f96c3347250>"
            ]
          },
          "metadata": {},
          "execution_count": 183
        },
        {
          "output_type": "display_data",
          "data": {
            "text/plain": [
              "<Figure size 432x288 with 1 Axes>"
            ],
            "image/png": "[encoded data removed]"
          },
          "metadata": {
            "needs_background": "light"
          }
        }
      ]
    },
    {
      "cell_type": "code",
      "source": [
        "sns.barplot('qualidade','variancia',data=df_filtrado)"
      ],
      "metadata": {
        "colab": {
          "base_uri": "https://localhost:8080/",
          "height": 362
        },
        "id": "3WWvT6o-6yPH",
        "outputId": "ca5581ab-627f-455d-b74f-1735fe61dbe5"
      },
      "execution_count": null,
      "outputs": [
        {
          "output_type": "stream",
          "name": "stderr",
          "text": [
            "/usr/local/lib/python3.8/dist-packages/seaborn/_decorators.py:36: FutureWarning: Pass the following variables as keyword args: x, y. From version 0.12, the only valid positional argument will be `data`, and passing other arguments without an explicit keyword will result in an error or misinterpretation.\n",
            "  warnings.warn(\n"
          ]
        },
        {
          "output_type": "execute_result",
          "data": {
            "text/plain": [
              "<matplotlib.axes._subplots.AxesSubplot at 0x7f96c330db20>"
            ]
          },
          "metadata": {},
          "execution_count": 184
        },
        {
          "output_type": "display_data",
          "data": {
            "text/plain": [
              "<Figure size 432x288 with 1 Axes>"
            ],
            "image/png": "[encoded data removed]"
          },
          "metadata": {
            "needs_background": "light"
          }
        }
      ]
    },
    {
      "cell_type": "code",
      "source": [
        "sns.barplot('qualidade','fatorForma',data=df_filtrado)"
      ],
      "metadata": {
        "colab": {
          "base_uri": "https://localhost:8080/",
          "height": 351
        },
        "id": "7lUSp80R60L3",
        "outputId": "25b50c21-8517-4385-99f1-d8cb68cf7b4a"
      },
      "execution_count": null,
      "outputs": [
        {
          "output_type": "stream",
          "name": "stderr",
          "text": [
            "/usr/local/lib/python3.8/dist-packages/seaborn/_decorators.py:36: FutureWarning: Pass the following variables as keyword args: x, y. From version 0.12, the only valid positional argument will be `data`, and passing other arguments without an explicit keyword will result in an error or misinterpretation.\n",
            "  warnings.warn(\n"
          ]
        },
        {
          "output_type": "execute_result",
          "data": {
            "text/plain": [
              "<matplotlib.axes._subplots.AxesSubplot at 0x7f96c32dcc40>"
            ]
          },
          "metadata": {},
          "execution_count": 185
        },
        {
          "output_type": "display_data",
          "data": {
            "text/plain": [
              "<Figure size 432x288 with 1 Axes>"
            ],
            "image/png": "[encoded data removed]"
          },
          "metadata": {
            "needs_background": "light"
          }
        }
      ]
    },
    {
      "cell_type": "code",
      "source": [
        "sns.barplot('qualidade','energia',data=df_filtrado)"
      ],
      "metadata": {
        "colab": {
          "base_uri": "https://localhost:8080/",
          "height": 362
        },
        "id": "VNsqx-2064S4",
        "outputId": "08388734-061c-4902-966c-c8369e530e25"
      },
      "execution_count": null,
      "outputs": [
        {
          "output_type": "stream",
          "name": "stderr",
          "text": [
            "/usr/local/lib/python3.8/dist-packages/seaborn/_decorators.py:36: FutureWarning: Pass the following variables as keyword args: x, y. From version 0.12, the only valid positional argument will be `data`, and passing other arguments without an explicit keyword will result in an error or misinterpretation.\n",
            "  warnings.warn(\n"
          ]
        },
        {
          "output_type": "execute_result",
          "data": {
            "text/plain": [
              "<matplotlib.axes._subplots.AxesSubplot at 0x7f96c32c4880>"
            ]
          },
          "metadata": {},
          "execution_count": 186
        },
        {
          "output_type": "display_data",
          "data": {
            "text/plain": [
              "<Figure size 432x288 with 1 Axes>"
            ],
            "image/png": "[encoded data removed]"
          },
          "metadata": {
            "needs_background": "light"
          }
        }
      ]
    },
    {
      "cell_type": "markdown",
      "source": [
        "COMPARAÇÃO GRAFICA DATASET COMPLETO"
      ],
      "metadata": {
        "id": "b2zUL8wJ66Cs"
      }
    },
    {
      "cell_type": "code",
      "source": [
        "sns.barplot('qualidade','rate',data=dataframe)"
      ],
      "metadata": {
        "colab": {
          "base_uri": "https://localhost:8080/",
          "height": 351
        },
        "id": "5PKT-plaAb12",
        "outputId": "0bb192a6-5467-41ee-b7d5-8f258a31031e"
      },
      "execution_count": null,
      "outputs": [
        {
          "output_type": "stream",
          "name": "stderr",
          "text": [
            "/usr/local/lib/python3.8/dist-packages/seaborn/_decorators.py:36: FutureWarning: Pass the following variables as keyword args: x, y. From version 0.12, the only valid positional argument will be `data`, and passing other arguments without an explicit keyword will result in an error or misinterpretation.\n",
            "  warnings.warn(\n"
          ]
        },
        {
          "output_type": "execute_result",
          "data": {
            "text/plain": [
              "<matplotlib.axes._subplots.AxesSubplot at 0x7f96c3088f40>"
            ]
          },
          "metadata": {},
          "execution_count": 192
        },
        {
          "output_type": "display_data",
          "data": {
            "text/plain": [
              "<Figure size 432x288 with 1 Axes>"
            ],
            "image/png": "[encoded data removed]"
          },
          "metadata": {
            "needs_background": "light"
          }
        }
      ]
    },
    {
      "cell_type": "code",
      "source": [
        "sns.barplot('qualidade','valorMinimo',data=dataframe)"
      ],
      "metadata": {
        "colab": {
          "base_uri": "https://localhost:8080/",
          "height": 355
        },
        "id": "Gn5i4xrAAeGM",
        "outputId": "fa9eab7e-e76e-4152-97c0-f86692299d5b"
      },
      "execution_count": null,
      "outputs": [
        {
          "output_type": "stream",
          "name": "stderr",
          "text": [
            "/usr/local/lib/python3.8/dist-packages/seaborn/_decorators.py:36: FutureWarning: Pass the following variables as keyword args: x, y. From version 0.12, the only valid positional argument will be `data`, and passing other arguments without an explicit keyword will result in an error or misinterpretation.\n",
            "  warnings.warn(\n"
          ]
        },
        {
          "output_type": "execute_result",
          "data": {
            "text/plain": [
              "<matplotlib.axes._subplots.AxesSubplot at 0x7f96c3052d60>"
            ]
          },
          "metadata": {},
          "execution_count": 193
        },
        {
          "output_type": "display_data",
          "data": {
            "text/plain": [
              "<Figure size 432x288 with 1 Axes>"
            ],
            "image/png": "[encoded data removed]"
          },
          "metadata": {
            "needs_background": "light"
          }
        }
      ]
    },
    {
      "cell_type": "code",
      "source": [
        "sns.barplot('qualidade','valorMaximo',data=dataframe)"
      ],
      "metadata": {
        "colab": {
          "base_uri": "https://localhost:8080/",
          "height": 351
        },
        "id": "Sb6VNXzDAgV6",
        "outputId": "bb3af28d-9799-4f42-bd8d-f472ebd97712"
      },
      "execution_count": null,
      "outputs": [
        {
          "output_type": "stream",
          "name": "stderr",
          "text": [
            "/usr/local/lib/python3.8/dist-packages/seaborn/_decorators.py:36: FutureWarning: Pass the following variables as keyword args: x, y. From version 0.12, the only valid positional argument will be `data`, and passing other arguments without an explicit keyword will result in an error or misinterpretation.\n",
            "  warnings.warn(\n"
          ]
        },
        {
          "output_type": "execute_result",
          "data": {
            "text/plain": [
              "<matplotlib.axes._subplots.AxesSubplot at 0x7f96c2fa3ca0>"
            ]
          },
          "metadata": {},
          "execution_count": 194
        },
        {
          "output_type": "display_data",
          "data": {
            "text/plain": [
              "<Figure size 432x288 with 1 Axes>"
            ],
            "image/png": "[encoded data removed]"
          },
          "metadata": {
            "needs_background": "light"
          }
        }
      ]
    },
    {
      "cell_type": "code",
      "source": [
        "sns.barplot('qualidade','valorMedio',data=dataframe)"
      ],
      "metadata": {
        "colab": {
          "base_uri": "https://localhost:8080/",
          "height": 351
        },
        "id": "LjlUTVejAijl",
        "outputId": "6c674610-21fe-4eb7-e252-fd05287e612e"
      },
      "execution_count": null,
      "outputs": [
        {
          "output_type": "stream",
          "name": "stderr",
          "text": [
            "/usr/local/lib/python3.8/dist-packages/seaborn/_decorators.py:36: FutureWarning: Pass the following variables as keyword args: x, y. From version 0.12, the only valid positional argument will be `data`, and passing other arguments without an explicit keyword will result in an error or misinterpretation.\n",
            "  warnings.warn(\n"
          ]
        },
        {
          "output_type": "execute_result",
          "data": {
            "text/plain": [
              "<matplotlib.axes._subplots.AxesSubplot at 0x7f96c2f75dc0>"
            ]
          },
          "metadata": {},
          "execution_count": 195
        },
        {
          "output_type": "display_data",
          "data": {
            "text/plain": [
              "<Figure size 432x288 with 1 Axes>"
            ],
            "image/png": "[encoded data removed]"
          },
          "metadata": {
            "needs_background": "light"
          }
        }
      ]
    },
    {
      "cell_type": "code",
      "source": [
        "sns.barplot('qualidade','forca',data=dataframe)"
      ],
      "metadata": {
        "colab": {
          "base_uri": "https://localhost:8080/",
          "height": 351
        },
        "id": "3iTjWQtEAk1Q",
        "outputId": "6faa8d09-e9f3-4008-84e2-a294aa46aa79"
      },
      "execution_count": null,
      "outputs": [
        {
          "output_type": "stream",
          "name": "stderr",
          "text": [
            "/usr/local/lib/python3.8/dist-packages/seaborn/_decorators.py:36: FutureWarning: Pass the following variables as keyword args: x, y. From version 0.12, the only valid positional argument will be `data`, and passing other arguments without an explicit keyword will result in an error or misinterpretation.\n",
            "  warnings.warn(\n"
          ]
        },
        {
          "output_type": "execute_result",
          "data": {
            "text/plain": [
              "<matplotlib.axes._subplots.AxesSubplot at 0x7f96c2f397f0>"
            ]
          },
          "metadata": {},
          "execution_count": 196
        },
        {
          "output_type": "display_data",
          "data": {
            "text/plain": [
              "<Figure size 432x288 with 1 Axes>"
            ],
            "image/png": "[encoded data removed]"
          },
          "metadata": {
            "needs_background": "light"
          }
        }
      ]
    },
    {
      "cell_type": "code",
      "source": [
        "sns.barplot('qualidade','valorRMS',data=dataframe)"
      ],
      "metadata": {
        "colab": {
          "base_uri": "https://localhost:8080/",
          "height": 351
        },
        "id": "9dRbu_e769Fw",
        "outputId": "9f23824d-4fe4-4a20-a174-5b1c717c97a7"
      },
      "execution_count": null,
      "outputs": [
        {
          "output_type": "stream",
          "name": "stderr",
          "text": [
            "/usr/local/lib/python3.8/dist-packages/seaborn/_decorators.py:36: FutureWarning: Pass the following variables as keyword args: x, y. From version 0.12, the only valid positional argument will be `data`, and passing other arguments without an explicit keyword will result in an error or misinterpretation.\n",
            "  warnings.warn(\n"
          ]
        },
        {
          "output_type": "execute_result",
          "data": {
            "text/plain": [
              "<matplotlib.axes._subplots.AxesSubplot at 0x7f96c2f18c40>"
            ]
          },
          "metadata": {},
          "execution_count": 197
        },
        {
          "output_type": "display_data",
          "data": {
            "text/plain": [
              "<Figure size 432x288 with 1 Axes>"
            ],
            "image/png": "[encoded data removed]"
          },
          "metadata": {
            "needs_background": "light"
          }
        }
      ]
    },
    {
      "cell_type": "code",
      "source": [
        "sns.barplot('qualidade','variancia',data=dataframe)"
      ],
      "metadata": {
        "colab": {
          "base_uri": "https://localhost:8080/",
          "height": 362
        },
        "id": "Hxzl80GP6_CN",
        "outputId": "adb52f98-dc1e-4de0-b85d-728f3dda8e35"
      },
      "execution_count": null,
      "outputs": [
        {
          "output_type": "stream",
          "name": "stderr",
          "text": [
            "/usr/local/lib/python3.8/dist-packages/seaborn/_decorators.py:36: FutureWarning: Pass the following variables as keyword args: x, y. From version 0.12, the only valid positional argument will be `data`, and passing other arguments without an explicit keyword will result in an error or misinterpretation.\n",
            "  warnings.warn(\n"
          ]
        },
        {
          "output_type": "execute_result",
          "data": {
            "text/plain": [
              "<matplotlib.axes._subplots.AxesSubplot at 0x7f96c2e69670>"
            ]
          },
          "metadata": {},
          "execution_count": 198
        },
        {
          "output_type": "display_data",
          "data": {
            "text/plain": [
              "<Figure size 432x288 with 1 Axes>"
            ],
            "image/png": "[encoded data removed]"
          },
          "metadata": {
            "needs_background": "light"
          }
        }
      ]
    },
    {
      "cell_type": "code",
      "source": [
        "sns.barplot('qualidade','fatorForma',data=dataframe)"
      ],
      "metadata": {
        "colab": {
          "base_uri": "https://localhost:8080/",
          "height": 351
        },
        "id": "jZ4aBLt57AVx",
        "outputId": "4cad6e29-32a3-4592-bd29-ee0e1ce56089"
      },
      "execution_count": null,
      "outputs": [
        {
          "output_type": "stream",
          "name": "stderr",
          "text": [
            "/usr/local/lib/python3.8/dist-packages/seaborn/_decorators.py:36: FutureWarning: Pass the following variables as keyword args: x, y. From version 0.12, the only valid positional argument will be `data`, and passing other arguments without an explicit keyword will result in an error or misinterpretation.\n",
            "  warnings.warn(\n"
          ]
        },
        {
          "output_type": "execute_result",
          "data": {
            "text/plain": [
              "<matplotlib.axes._subplots.AxesSubplot at 0x7f96c2e44760>"
            ]
          },
          "metadata": {},
          "execution_count": 199
        },
        {
          "output_type": "display_data",
          "data": {
            "text/plain": [
              "<Figure size 432x288 with 1 Axes>"
            ],
            "image/png": "[encoded data removed]"
          },
          "metadata": {
            "needs_background": "light"
          }
        }
      ]
    },
    {
      "cell_type": "code",
      "source": [
        "sns.barplot('qualidade','energia',data=dataframe)"
      ],
      "metadata": {
        "colab": {
          "base_uri": "https://localhost:8080/",
          "height": 362
        },
        "id": "Zzuenjum7Bte",
        "outputId": "672abc20-e5ce-4722-eab0-a3722f95a58f"
      },
      "execution_count": null,
      "outputs": [
        {
          "output_type": "stream",
          "name": "stderr",
          "text": [
            "/usr/local/lib/python3.8/dist-packages/seaborn/_decorators.py:36: FutureWarning: Pass the following variables as keyword args: x, y. From version 0.12, the only valid positional argument will be `data`, and passing other arguments without an explicit keyword will result in an error or misinterpretation.\n",
            "  warnings.warn(\n"
          ]
        },
        {
          "output_type": "execute_result",
          "data": {
            "text/plain": [
              "<matplotlib.axes._subplots.AxesSubplot at 0x7f96c2e13dc0>"
            ]
          },
          "metadata": {},
          "execution_count": 200
        },
        {
          "output_type": "display_data",
          "data": {
            "text/plain": [
              "<Figure size 432x288 with 1 Axes>"
            ],
            "image/png": "[encoded data removed]"
          },
          "metadata": {
            "needs_background": "light"
          }
        }
      ]
    },
    {
      "cell_type": "markdown",
      "metadata": {
        "id": "Ta4HE4YRXcS7"
      },
      "source": [
        "## Seleção das características \n",
        "\n",
        "Aplicar alguns dos métodos de seleção de características para selecionar 6 ou menos características para ser input do seu modelo \n",
        "\n",
        "obs: Você deverá normalizar os dados para que estejam em 'ranges' iguais "
      ]
    },
    {
      "cell_type": "code",
      "source": [
        "scaler = preprocessing.MinMaxScaler()"
      ],
      "metadata": {
        "id": "Qf0yct5qX5Jx"
      },
      "execution_count": null,
      "outputs": []
    },
    {
      "cell_type": "code",
      "source": [
        "rms = dataframe['valorRMS'].values\n",
        "variancia = dataframe['variancia'].values\n",
        "minimo = dataframe['valorMinimo'].values\n",
        "forca = dataframe['forca'].values\n",
        "energia = dataframe['energia'].values"
      ],
      "metadata": {
        "id": "JiKs9Bt9YhkC"
      },
      "execution_count": null,
      "outputs": []
    },
    {
      "cell_type": "code",
      "source": [
        "rms_scaled = scaler.fit_transform(rms.reshape(-1,1))\n",
        "var_scaled = scaler.fit_transform(variancia.reshape(-1,1))\n",
        "minimo_scaled = scaler.fit_transform(minimo.reshape(-1,1))\n",
        "forca_scaled = scaler.fit_transform(forca.reshape(-1,1))\n",
        "energia_scaled = scaler.fit_transform(energia.reshape(-1,1))"
      ],
      "metadata": {
        "id": "NgkM2ZugX5NG"
      },
      "execution_count": null,
      "outputs": []
    },
    {
      "cell_type": "code",
      "source": [
        "dataframe['valorRMS'] = rms_scaled\n",
        "dataframe['variancia'] = var_scaled\n",
        "dataframe['valorMinimo'] = minimo_scaled\n",
        "dataframe['forca'] = forca_scaled\n",
        "dataframe['energia'] = energia_scaled"
      ],
      "metadata": {
        "id": "as0txYeUYSqz"
      },
      "execution_count": null,
      "outputs": []
    },
    {
      "cell_type": "code",
      "source": [
        "dataframe.head()"
      ],
      "metadata": {
        "colab": {
          "base_uri": "https://localhost:8080/",
          "height": 206
        },
        "id": "SDtcYMsGYrpj",
        "outputId": "f9679061-9762-4db9-f17e-1c12c1d1a239"
      },
      "execution_count": null,
      "outputs": [
        {
          "output_type": "execute_result",
          "data": {
            "text/plain": [
              "  qualidade                                               data   rate  \\\n",
              "0         0  [0, 0, 0, 0, 0, 0, 0, 0, 0, 0, 0, 0, 0, 0, 0, ...  44000   \n",
              "1         0  [0, 0, 0, 0, 0, 0, 0, 0, 0, 0, 0, 0, 0, 0, 0, ...  44000   \n",
              "2         0  [0, 0, 0, 0, 0, 0, 0, 0, 0, 0, 0, 0, 0, 0, 0, ...  44000   \n",
              "3         0  [0, 0, 0, 0, 0, 0, 0, 0, 0, 0, 0, 0, 0, 0, 0, ...  44000   \n",
              "4         0  [0, 0, 0, 0, 0, 0, 0, 0, 0, 0, 0, 0, 0, 0, 0, ...  44000   \n",
              "\n",
              "   valorMinimo  valorMaximo  valorMedio     forca  valorRMS  variancia  \\\n",
              "0          0.0        32511   -1.657955  0.460734  0.112329   0.076251   \n",
              "1          0.0        31231    1.311364  0.558511  0.066501   0.044015   \n",
              "2          0.0        32511    0.523977  0.532583  0.074969   0.049802   \n",
              "3          0.0        32511   -0.246591  0.507209  0.029390   0.019044   \n",
              "4          0.0        27135   -1.147614  0.477539  0.000000   0.000000   \n",
              "\n",
              "   fatorForma    fatorCrista   energia  \n",
              "0    8.182985  -19609.102125  0.106261  \n",
              "1    8.242544   23815.667244  0.069084  \n",
              "2    8.504054   62046.584255  0.093303  \n",
              "3    8.931593 -131841.843318  0.037660  \n",
              "4    7.704429  -23644.717299  0.000000  "
            ],
            "text/html": [
              "\n",
              "  <div id=\"df-54ba7a66-1d0e-40e7-8222-132c846c827c\">\n",
              "    <div class=\"colab-df-container\">\n",
              "      <div>\n",
              "<style scoped>\n",
              "    .dataframe tbody tr th:only-of-type {\n",
              "        vertical-align: middle;\n",
              "    }\n",
              "\n",
              "    .dataframe tbody tr th {\n",
              "        vertical-align: top;\n",
              "    }\n",
              "\n",
              "    .dataframe thead th {\n",
              "        text-align: right;\n",
              "    }\n",
              "</style>\n",
              "<table border=\"1\" class=\"dataframe\">\n",
              "  <thead>\n",
              "    <tr style=\"text-align: right;\">\n",
              "      <th></th>\n",
              "      <th>qualidade</th>\n",
              "      <th>data</th>\n",
              "      <th>rate</th>\n",
              "      <th>valorMinimo</th>\n",
              "      <th>valorMaximo</th>\n",
              "      <th>valorMedio</th>\n",
              "      <th>forca</th>\n",
              "      <th>valorRMS</th>\n",
              "      <th>variancia</th>\n",
              "      <th>fatorForma</th>\n",
              "      <th>fatorCrista</th>\n",
              "      <th>energia</th>\n",
              "    </tr>\n",
              "  </thead>\n",
              "  <tbody>\n",
              "    <tr>\n",
              "      <th>0</th>\n",
              "      <td>0</td>\n",
              "      <td>[0, 0, 0, 0, 0, 0, 0, 0, 0, 0, 0, 0, 0, 0, 0, ...</td>\n",
              "      <td>44000</td>\n",
              "      <td>0.0</td>\n",
              "      <td>32511</td>\n",
              "      <td>-1.657955</td>\n",
              "      <td>0.460734</td>\n",
              "      <td>0.112329</td>\n",
              "      <td>0.076251</td>\n",
              "      <td>8.182985</td>\n",
              "      <td>-19609.102125</td>\n",
              "      <td>0.106261</td>\n",
              "    </tr>\n",
              "    <tr>\n",
              "      <th>1</th>\n",
              "      <td>0</td>\n",
              "      <td>[0, 0, 0, 0, 0, 0, 0, 0, 0, 0, 0, 0, 0, 0, 0, ...</td>\n",
              "      <td>44000</td>\n",
              "      <td>0.0</td>\n",
              "      <td>31231</td>\n",
              "      <td>1.311364</td>\n",
              "      <td>0.558511</td>\n",
              "      <td>0.066501</td>\n",
              "      <td>0.044015</td>\n",
              "      <td>8.242544</td>\n",
              "      <td>23815.667244</td>\n",
              "      <td>0.069084</td>\n",
              "    </tr>\n",
              "    <tr>\n",
              "      <th>2</th>\n",
              "      <td>0</td>\n",
              "      <td>[0, 0, 0, 0, 0, 0, 0, 0, 0, 0, 0, 0, 0, 0, 0, ...</td>\n",
              "      <td>44000</td>\n",
              "      <td>0.0</td>\n",
              "      <td>32511</td>\n",
              "      <td>0.523977</td>\n",
              "      <td>0.532583</td>\n",
              "      <td>0.074969</td>\n",
              "      <td>0.049802</td>\n",
              "      <td>8.504054</td>\n",
              "      <td>62046.584255</td>\n",
              "      <td>0.093303</td>\n",
              "    </tr>\n",
              "    <tr>\n",
              "      <th>3</th>\n",
              "      <td>0</td>\n",
              "      <td>[0, 0, 0, 0, 0, 0, 0, 0, 0, 0, 0, 0, 0, 0, 0, ...</td>\n",
              "      <td>44000</td>\n",
              "      <td>0.0</td>\n",
              "      <td>32511</td>\n",
              "      <td>-0.246591</td>\n",
              "      <td>0.507209</td>\n",
              "      <td>0.029390</td>\n",
              "      <td>0.019044</td>\n",
              "      <td>8.931593</td>\n",
              "      <td>-131841.843318</td>\n",
              "      <td>0.037660</td>\n",
              "    </tr>\n",
              "    <tr>\n",
              "      <th>4</th>\n",
              "      <td>0</td>\n",
              "      <td>[0, 0, 0, 0, 0, 0, 0, 0, 0, 0, 0, 0, 0, 0, 0, ...</td>\n",
              "      <td>44000</td>\n",
              "      <td>0.0</td>\n",
              "      <td>27135</td>\n",
              "      <td>-1.147614</td>\n",
              "      <td>0.477539</td>\n",
              "      <td>0.000000</td>\n",
              "      <td>0.000000</td>\n",
              "      <td>7.704429</td>\n",
              "      <td>-23644.717299</td>\n",
              "      <td>0.000000</td>\n",
              "    </tr>\n",
              "  </tbody>\n",
              "</table>\n",
              "</div>\n",
              "      <button class=\"colab-df-convert\" onclick=\"convertToInteractive('df-54ba7a66-1d0e-40e7-8222-132c846c827c')\"\n",
              "              title=\"Convert this dataframe to an interactive table.\"\n",
              "              style=\"display:none;\">\n",
              "        \n",
              "  <svg xmlns=\"http://www.w3.org/2000/svg\" height=\"24px\"viewBox=\"0 0 24 24\"\n",
              "       width=\"24px\">\n",
              "    <path d=\"M0 0h24v24H0V0z\" fill=\"none\"/>\n",
              "    <path d=\"M18.56 5.44l.94 2.06.94-2.06 2.06-.94-2.06-.94-.94-2.06-.94 2.06-2.06.94zm-11 1L8.5 8.5l.94-2.06 2.06-.94-2.06-.94L8.5 2.5l-.94 2.06-2.06.94zm10 10l.94 2.06.94-2.06 2.06-.94-2.06-.94-.94-2.06-.94 2.06-2.06.94z\"/><path d=\"M17.41 7.96l-1.37-1.37c-.4-.4-.92-.59-1.43-.59-.52 0-1.04.2-1.43.59L10.3 9.45l-7.72 7.72c-.78.78-.78 2.05 0 2.83L4 21.41c.39.39.9.59 1.41.59.51 0 1.02-.2 1.41-.59l7.78-7.78 2.81-2.81c.8-.78.8-2.07 0-2.86zM5.41 20L4 18.59l7.72-7.72 1.47 1.35L5.41 20z\"/>\n",
              "  </svg>\n",
              "      </button>\n",
              "      \n",
              "  <style>\n",
              "    .colab-df-container {\n",
              "      display:flex;\n",
              "      flex-wrap:wrap;\n",
              "      gap: 12px;\n",
              "    }\n",
              "\n",
              "    .colab-df-convert {\n",
              "      background-color: #E8F0FE;\n",
              "      border: none;\n",
              "      border-radius: 50%;\n",
              "      cursor: pointer;\n",
              "      display: none;\n",
              "      fill: #1967D2;\n",
              "      height: 32px;\n",
              "      padding: 0 0 0 0;\n",
              "      width: 32px;\n",
              "    }\n",
              "\n",
              "    .colab-df-convert:hover {\n",
              "      background-color: #E2EBFA;\n",
              "      box-shadow: 0px 1px 2px rgba(60, 64, 67, 0.3), 0px 1px 3px 1px rgba(60, 64, 67, 0.15);\n",
              "      fill: #174EA6;\n",
              "    }\n",
              "\n",
              "    [theme=dark] .colab-df-convert {\n",
              "      background-color: #3B4455;\n",
              "      fill: #D2E3FC;\n",
              "    }\n",
              "\n",
              "    [theme=dark] .colab-df-convert:hover {\n",
              "      background-color: #434B5C;\n",
              "      box-shadow: 0px 1px 3px 1px rgba(0, 0, 0, 0.15);\n",
              "      filter: drop-shadow(0px 1px 2px rgba(0, 0, 0, 0.3));\n",
              "      fill: #FFFFFF;\n",
              "    }\n",
              "  </style>\n",
              "\n",
              "      <script>\n",
              "        const buttonEl =\n",
              "          document.querySelector('#df-54ba7a66-1d0e-40e7-8222-132c846c827c button.colab-df-convert');\n",
              "        buttonEl.style.display =\n",
              "          google.colab.kernel.accessAllowed ? 'block' : 'none';\n",
              "\n",
              "        async function convertToInteractive(key) {\n",
              "          const element = document.querySelector('#df-54ba7a66-1d0e-40e7-8222-132c846c827c');\n",
              "          const dataTable =\n",
              "            await google.colab.kernel.invokeFunction('convertToInteractive',\n",
              "                                                     [key], {});\n",
              "          if (!dataTable) return;\n",
              "\n",
              "          const docLinkHtml = 'Like what you see? Visit the ' +\n",
              "            '<a target=\"_blank\" href=https://colab.research.google.com/notebooks/data_table.ipynb>data table notebook</a>'\n",
              "            + ' to learn more about interactive tables.';\n",
              "          element.innerHTML = '';\n",
              "          dataTable['output_type'] = 'display_data';\n",
              "          await google.colab.output.renderOutput(dataTable, element);\n",
              "          const docLink = document.createElement('div');\n",
              "          docLink.innerHTML = docLinkHtml;\n",
              "          element.appendChild(docLink);\n",
              "        }\n",
              "      </script>\n",
              "    </div>\n",
              "  </div>\n",
              "  "
            ]
          },
          "metadata": {},
          "execution_count": 205
        }
      ]
    },
    {
      "cell_type": "code",
      "execution_count": null,
      "metadata": {
        "id": "rHQFuYWpYCpx",
        "colab": {
          "base_uri": "https://localhost:8080/",
          "height": 573
        },
        "outputId": "91331d3f-d7e2-4331-a5a7-f3f51351f355"
      },
      "outputs": [
        {
          "output_type": "execute_result",
          "data": {
            "text/plain": [
              "<matplotlib.axes._subplots.AxesSubplot at 0x7f96c2d6ca30>"
            ]
          },
          "metadata": {},
          "execution_count": 206
        },
        {
          "output_type": "display_data",
          "data": {
            "text/plain": [
              "<Figure size 842.4x595.44 with 2 Axes>"
            ],
            "image/png": "[encoded data removed]"
          },
          "metadata": {
            "needs_background": "light"
          }
        }
      ],
      "source": [
        "a4_dims = (11.7, 8.27)\n",
        "fig, ax = pyplot.subplots(figsize=a4_dims)\n",
        "sns.heatmap(dataframe.corr(method='pearson'), annot=True)"
      ]
    },
    {
      "cell_type": "code",
      "execution_count": null,
      "metadata": {
        "id": "9-tPvZ3IYCvr"
      },
      "outputs": [],
      "source": [
        "dataframe = dataframe.drop(['data', 'rate', 'forca', 'fatorCrista', 'valorMedio', 'valorMinimo'], axis=1)"
      ]
    },
    {
      "cell_type": "code",
      "execution_count": null,
      "metadata": {
        "id": "j6Mpg4-0YC3U",
        "colab": {
          "base_uri": "https://localhost:8080/",
          "height": 340
        },
        "outputId": "3abd3801-f0bf-415d-e30c-5c37ba2d09d8"
      },
      "outputs": [
        {
          "output_type": "execute_result",
          "data": {
            "text/plain": [
              "<matplotlib.axes._subplots.AxesSubplot at 0x7f96c2be6280>"
            ]
          },
          "metadata": {},
          "execution_count": 209
        },
        {
          "output_type": "display_data",
          "data": {
            "text/plain": [
              "<Figure size 432x288 with 2 Axes>"
            ],
            "image/png": "[encoded data removed]"
          },
          "metadata": {
            "needs_background": "light"
          }
        }
      ],
      "source": [
        "sns.heatmap(dataframe.corr(method='pearson'), annot=True)"
      ]
    },
    {
      "cell_type": "markdown",
      "metadata": {
        "id": "Cg_BrHBMYWPf"
      },
      "source": [
        "## Definição de X e Y \n"
      ]
    },
    {
      "cell_type": "code",
      "execution_count": null,
      "metadata": {
        "id": "dOg54nOxYkPN"
      },
      "outputs": [],
      "source": [
        "# Armazenando as informações de entrada.\n",
        "x = dataframe.drop(['qualidade'],axis=1)"
      ]
    },
    {
      "cell_type": "code",
      "execution_count": null,
      "metadata": {
        "id": "P0SxofzoYkUV"
      },
      "outputs": [],
      "source": [
        "# Armazenando a variavel target.\n",
        "y = dataframe['qualidade'].astype('int')"
      ]
    },
    {
      "cell_type": "code",
      "source": [
        "# Criando o modelo.\n",
        "modelLabelEncoder = LabelEncoder()"
      ],
      "metadata": {
        "id": "5AXNTfPnitmv"
      },
      "execution_count": null,
      "outputs": []
    },
    {
      "cell_type": "code",
      "source": [
        "# Realizando a transformação.\n",
        "yOrdinal = modelLabelEncoder.fit_transform(y)"
      ],
      "metadata": {
        "id": "jKYcxMRWi1-O"
      },
      "execution_count": null,
      "outputs": []
    },
    {
      "cell_type": "markdown",
      "metadata": {
        "id": "CfByDSHcZDPp"
      },
      "source": [
        "## Criação do pipeline  (**pipe**)\n"
      ]
    },
    {
      "cell_type": "code",
      "source": [
        "# Cria um pipeline.\n",
        "pipe = Pipeline(steps=[\n",
        "                    ('classifier', SVC())\n",
        "                    ]\n",
        "            )\n",
        "    "
      ],
      "metadata": {
        "id": "-kHX1uO3iGbO"
      },
      "execution_count": null,
      "outputs": []
    },
    {
      "cell_type": "markdown",
      "metadata": {
        "id": "0PIgpvJsaqSU"
      },
      "source": [
        "### Definir quais os modelos e hiperparametros serão utilizados para rodar o pipeline.  (**search_space**)\n",
        "\n",
        "  *  Selecionar 3 modelo de classificação. \n",
        "  *  Selecionar pelo menos 2 hiperparâmetro para busca em cada modelo.  \n",
        "\n",
        "\n",
        "  "
      ]
    },
    {
      "cell_type": "code",
      "execution_count": null,
      "metadata": {
        "id": "eNI-NmQGa57O"
      },
      "outputs": [],
      "source": [
        "# Criar espaço de algoritmos de aprendizagem candidatos e seus hiperparâmetros.\n",
        "search_space = [{'classifier': [RandomForestClassifier(n_jobs=-1)],\n",
        "                'classifier__n_estimators' : [10,100,200]\n",
        "                },\n",
        "               \n",
        "                {'classifier':[SVC(random_state=5,cache_size = 400)],\n",
        "                  'classifier__kernel' : ['rbf'],\n",
        "                  'classifier__C' : [0.5,0.75,1,1.25,1.5]\n",
        "                },\n",
        "                {'classifier':[KNeighborsClassifier(n_jobs=-1)],\n",
        "                  'classifier__n_neighbors' : [5,10,15]\n",
        "                },\n",
        "             \n",
        "                ]"
      ]
    },
    {
      "cell_type": "markdown",
      "metadata": {
        "id": "1Pp3RrambeTY"
      },
      "source": [
        "### Criar GridSearch e passar como parâmetro:\n",
        "  *  O pipeline criado anteriormente (**pipe**)\n",
        "  *  O (**search_space**) contendo os modelos e hiperparâmetros a serem testados  \n",
        "  *  1 método de validação cruzada (k-fold, leave one out ... etc) "
      ]
    },
    {
      "cell_type": "code",
      "execution_count": null,
      "metadata": {
        "id": "ET7rs52_Yffx"
      },
      "outputs": [],
      "source": [
        " # Cria o gridsearch de busca.\n",
        "grid_model = GridSearchCV(estimator = pipe,param_grid = search_space, \n",
        "                      scoring = 'accuracy' ,\n",
        "                      cv=5, verbose = 2, n_jobs=-1)"
      ]
    },
    {
      "cell_type": "markdown",
      "metadata": {
        "id": "YZFPczSNZOy4"
      },
      "source": [
        "### Treine o GridSearch (.fit(X,Y))"
      ]
    },
    {
      "cell_type": "code",
      "execution_count": null,
      "metadata": {
        "id": "Jlv2UD6uZZ6I",
        "colab": {
          "base_uri": "https://localhost:8080/"
        },
        "outputId": "a80dee50-1114-4a8c-a82e-c5fbcc917ac8"
      },
      "outputs": [
        {
          "output_type": "stream",
          "name": "stdout",
          "text": [
            "Fitting 5 folds for each of 11 candidates, totalling 55 fits\n"
          ]
        }
      ],
      "source": [
        "# Treina todos os modelos.\n",
        "models = grid_model.fit(x, yOrdinal)    "
      ]
    },
    {
      "cell_type": "code",
      "execution_count": null,
      "metadata": {
        "id": "Gpl3j7FKZcUi",
        "colab": {
          "base_uri": "https://localhost:8080/"
        },
        "outputId": "0995c2cb-fd41-4cd1-e4e0-27b5bfdbf31c"
      },
      "outputs": [
        {
          "output_type": "execute_result",
          "data": {
            "text/plain": [
              "GridSearchCV(cv=5, estimator=Pipeline(steps=[('classifier', SVC())]), n_jobs=-1,\n",
              "             param_grid=[{'classifier': [RandomForestClassifier(n_jobs=-1)],\n",
              "                          'classifier__n_estimators': [10, 100, 200]},\n",
              "                         {'classifier': [SVC(cache_size=400, random_state=5)],\n",
              "                          'classifier__C': [0.5, 0.75, 1, 1.25, 1.5],\n",
              "                          'classifier__kernel': ['rbf']},\n",
              "                         {'classifier': [KNeighborsClassifier(n_jobs=-1,\n",
              "                                                              n_neighbors=10)],\n",
              "                          'classifier__n_neighbors': [5, 10, 15]}],\n",
              "             scoring='accuracy', verbose=2)"
            ]
          },
          "metadata": {},
          "execution_count": 218
        }
      ],
      "source": [
        "models"
      ]
    },
    {
      "cell_type": "markdown",
      "metadata": {
        "id": "yyVZBHNwZm6X"
      },
      "source": [
        "### Print o melhor modelo (.best_estimator_)"
      ]
    },
    {
      "cell_type": "code",
      "execution_count": null,
      "metadata": {
        "id": "r9Im9R4_aAcs",
        "colab": {
          "base_uri": "https://localhost:8080/"
        },
        "outputId": "94146fd9-6c84-49bb-e1b5-f8cbd4d82797"
      },
      "outputs": [
        {
          "output_type": "execute_result",
          "data": {
            "text/plain": [
              "Pipeline(steps=[('classifier',\n",
              "                 KNeighborsClassifier(n_jobs=-1, n_neighbors=10))])"
            ]
          },
          "metadata": {},
          "execution_count": 219
        }
      ],
      "source": [
        "models.best_estimator_"
      ]
    },
    {
      "cell_type": "markdown",
      "metadata": {
        "id": "qdTz5ZIVaBsL"
      },
      "source": [
        "## Treine e Teste o modelo final \n",
        "\n",
        "Agora, sabendo qual o melhor modelo para aplicar neste problema você deverá separar seus dados em treino e teste utilizando o método holdout (70 % para treino e 30% para teste)"
      ]
    },
    {
      "cell_type": "code",
      "execution_count": null,
      "metadata": {
        "id": "8v3K_z-Ba0Ma"
      },
      "outputs": [],
      "source": [
        "# Separando os dados de em treino e teste, de acordo com a % passada.\n",
        "x_train,x_test, y_train,y_test = train_test_split(x,y,test_size = 0.30, random_state = 1)"
      ]
    },
    {
      "cell_type": "markdown",
      "metadata": {
        "id": "fEX0-kfEbNWD"
      },
      "source": [
        "### Realize  treino (.fit(x_treino,y_treino) com os dados de treino"
      ]
    },
    {
      "cell_type": "code",
      "source": [
        "modelDecisionTreeCl = DecisionTreeClassifier()"
      ],
      "metadata": {
        "id": "KNR_8pECxH8w"
      },
      "execution_count": null,
      "outputs": []
    },
    {
      "cell_type": "code",
      "source": [
        "selector = RFE(modelDecisionTreeCl, n_features_to_select=2)"
      ],
      "metadata": {
        "id": "8KbrGBdSxIGG"
      },
      "execution_count": null,
      "outputs": []
    },
    {
      "cell_type": "code",
      "source": [
        "featuresSelection = selector.fit(x,y)"
      ],
      "metadata": {
        "id": "5uTGlHYlwzf1"
      },
      "execution_count": null,
      "outputs": []
    },
    {
      "cell_type": "code",
      "source": [
        "x.columns"
      ],
      "metadata": {
        "colab": {
          "base_uri": "https://localhost:8080/"
        },
        "id": "w-ZSXBPsxMPY",
        "outputId": "2ece90df-48c6-4e1c-c94a-eda45502602d"
      },
      "execution_count": null,
      "outputs": [
        {
          "output_type": "execute_result",
          "data": {
            "text/plain": [
              "Index(['valorMaximo', 'valorRMS', 'variancia', 'fatorForma', 'energia'], dtype='object')"
            ]
          },
          "metadata": {},
          "execution_count": 224
        }
      ]
    },
    {
      "cell_type": "code",
      "source": [
        "featuresSelection.support_"
      ],
      "metadata": {
        "colab": {
          "base_uri": "https://localhost:8080/"
        },
        "id": "dfYOp-mtxMaZ",
        "outputId": "69eb94d3-c11f-4fe6-a712-da5179dc488e"
      },
      "execution_count": null,
      "outputs": [
        {
          "output_type": "execute_result",
          "data": {
            "text/plain": [
              "array([False, False,  True, False,  True])"
            ]
          },
          "metadata": {},
          "execution_count": 225
        }
      ]
    },
    {
      "cell_type": "markdown",
      "metadata": {
        "id": "VjqRGQPea-Vt"
      },
      "source": [
        "### Realize a predição (.predict(x_teste)) com os dados de teste"
      ]
    },
    {
      "cell_type": "code",
      "execution_count": null,
      "metadata": {
        "id": "udK5l-abbjBq"
      },
      "outputs": [],
      "source": [
        "y_predict = models.best_estimator_.predict(x_test)"
      ]
    },
    {
      "cell_type": "markdown",
      "metadata": {
        "id": "bOogSYKAcQ9g"
      },
      "source": [
        "## Avaliação do modelo \n",
        "\n",
        "*   Utilizar Acurácia, Precisão, Recall, F1-score para avaliar o modelo\n",
        "*   Utilizar a matriz de confusão para avaliar o modelo"
      ]
    },
    {
      "cell_type": "code",
      "execution_count": null,
      "metadata": {
        "id": "CGCrBcVcdARz",
        "colab": {
          "base_uri": "https://localhost:8080/"
        },
        "outputId": "4c7a7a2c-794f-4c5c-c10e-8ce567d0384a"
      },
      "outputs": [
        {
          "output_type": "stream",
          "name": "stdout",
          "text": [
            "              precision    recall  f1-score   support\n",
            "\n",
            "        Ruim       0.95      0.97      0.96        40\n",
            "         Bom       0.98      0.95      0.97        44\n",
            "\n",
            "    accuracy                           0.96        84\n",
            "   macro avg       0.96      0.96      0.96        84\n",
            "weighted avg       0.96      0.96      0.96        84\n",
            "\n"
          ]
        }
      ],
      "source": [
        "# Valores do melhor modelo.\n",
        "print(classification_report(list(y_test.values),y_predict,target_names=['Ruim','Bom']))"
      ]
    },
    {
      "cell_type": "code",
      "execution_count": null,
      "metadata": {
        "id": "GhBBfDvvdAjD"
      },
      "outputs": [],
      "source": [
        "cfMatrix = confusion_matrix(list(y_test.values), y_predict)"
      ]
    },
    {
      "cell_type": "code",
      "execution_count": null,
      "metadata": {
        "id": "cALkkPEEdAf2",
        "colab": {
          "base_uri": "https://localhost:8080/",
          "height": 286
        },
        "outputId": "e842196f-7bc2-4489-b158-e92818a1bc6f"
      },
      "outputs": [
        {
          "output_type": "execute_result",
          "data": {
            "text/plain": [
              "<matplotlib.axes._subplots.AxesSubplot at 0x7f96c2b3bf10>"
            ]
          },
          "metadata": {},
          "execution_count": 229
        },
        {
          "output_type": "display_data",
          "data": {
            "text/plain": [
              "<Figure size 432x288 with 2 Axes>"
            ],
            "image/png": "[encoded data removed]"
          },
          "metadata": {
            "needs_background": "light"
          }
        }
      ],
      "source": [
        "sns.heatmap(cfMatrix/np.sum(cfMatrix), annot=True, fmt='.2%', cmap='Blues')"
      ]
    },
    {
      "cell_type": "code",
      "source": [
        "dataframe"
      ],
      "metadata": {
        "colab": {
          "base_uri": "https://localhost:8080/",
          "height": 424
        },
        "id": "ChW7uZjoyv9j",
        "outputId": "3c37f4f3-e65e-4d5b-fca6-df2d723d00f2"
      },
      "execution_count": null,
      "outputs": [
        {
          "output_type": "execute_result",
          "data": {
            "text/plain": [
              "    qualidade  valorMaximo  valorRMS  variancia  fatorForma   energia\n",
              "0           0        32511  0.112329   0.076251    8.182985  0.106261\n",
              "1           0        31231  0.066501   0.044015    8.242544  0.069084\n",
              "2           0        32511  0.074969   0.049802    8.504054  0.093303\n",
              "3           0        32511  0.029390   0.019044    8.931593  0.037660\n",
              "4           0        27135  0.000000   0.000000    7.704429  0.000000\n",
              "..        ...          ...       ...        ...         ...       ...\n",
              "275         1        32511  0.801743   0.744077    4.822875  0.663695\n",
              "276         1        32511  0.838854   0.789858    4.718578  0.729284\n",
              "277         1        32511  0.734994   0.664279    5.022555  0.681191\n",
              "278         1        32511  0.872229   0.831781    4.628559  0.750602\n",
              "279         1        32511  0.705604   0.630225    5.115814  0.596087\n",
              "\n",
              "[280 rows x 6 columns]"
            ],
            "text/html": [
              "\n",
              "  <div id=\"df-94207f22-1f2f-45ef-80ab-1f3a4555d6be\">\n",
              "    <div class=\"colab-df-container\">\n",
              "      <div>\n",
              "<style scoped>\n",
              "    .dataframe tbody tr th:only-of-type {\n",
              "        vertical-align: middle;\n",
              "    }\n",
              "\n",
              "    .dataframe tbody tr th {\n",
              "        vertical-align: top;\n",
              "    }\n",
              "\n",
              "    .dataframe thead th {\n",
              "        text-align: right;\n",
              "    }\n",
              "</style>\n",
              "<table border=\"1\" class=\"dataframe\">\n",
              "  <thead>\n",
              "    <tr style=\"text-align: right;\">\n",
              "      <th></th>\n",
              "      <th>qualidade</th>\n",
              "      <th>valorMaximo</th>\n",
              "      <th>valorRMS</th>\n",
              "      <th>variancia</th>\n",
              "      <th>fatorForma</th>\n",
              "      <th>energia</th>\n",
              "    </tr>\n",
              "  </thead>\n",
              "  <tbody>\n",
              "    <tr>\n",
              "      <th>0</th>\n",
              "      <td>0</td>\n",
              "      <td>32511</td>\n",
              "      <td>0.112329</td>\n",
              "      <td>0.076251</td>\n",
              "      <td>8.182985</td>\n",
              "      <td>0.106261</td>\n",
              "    </tr>\n",
              "    <tr>\n",
              "      <th>1</th>\n",
              "      <td>0</td>\n",
              "      <td>31231</td>\n",
              "      <td>0.066501</td>\n",
              "      <td>0.044015</td>\n",
              "      <td>8.242544</td>\n",
              "      <td>0.069084</td>\n",
              "    </tr>\n",
              "    <tr>\n",
              "      <th>2</th>\n",
              "      <td>0</td>\n",
              "      <td>32511</td>\n",
              "      <td>0.074969</td>\n",
              "      <td>0.049802</td>\n",
              "      <td>8.504054</td>\n",
              "      <td>0.093303</td>\n",
              "    </tr>\n",
              "    <tr>\n",
              "      <th>3</th>\n",
              "      <td>0</td>\n",
              "      <td>32511</td>\n",
              "      <td>0.029390</td>\n",
              "      <td>0.019044</td>\n",
              "      <td>8.931593</td>\n",
              "      <td>0.037660</td>\n",
              "    </tr>\n",
              "    <tr>\n",
              "      <th>4</th>\n",
              "      <td>0</td>\n",
              "      <td>27135</td>\n",
              "      <td>0.000000</td>\n",
              "      <td>0.000000</td>\n",
              "      <td>7.704429</td>\n",
              "      <td>0.000000</td>\n",
              "    </tr>\n",
              "    <tr>\n",
              "      <th>...</th>\n",
              "      <td>...</td>\n",
              "      <td>...</td>\n",
              "      <td>...</td>\n",
              "      <td>...</td>\n",
              "      <td>...</td>\n",
              "      <td>...</td>\n",
              "    </tr>\n",
              "    <tr>\n",
              "      <th>275</th>\n",
              "      <td>1</td>\n",
              "      <td>32511</td>\n",
              "      <td>0.801743</td>\n",
              "      <td>0.744077</td>\n",
              "      <td>4.822875</td>\n",
              "      <td>0.663695</td>\n",
              "    </tr>\n",
              "    <tr>\n",
              "      <th>276</th>\n",
              "      <td>1</td>\n",
              "      <td>32511</td>\n",
              "      <td>0.838854</td>\n",
              "      <td>0.789858</td>\n",
              "      <td>4.718578</td>\n",
              "      <td>0.729284</td>\n",
              "    </tr>\n",
              "    <tr>\n",
              "      <th>277</th>\n",
              "      <td>1</td>\n",
              "      <td>32511</td>\n",
              "      <td>0.734994</td>\n",
              "      <td>0.664279</td>\n",
              "      <td>5.022555</td>\n",
              "      <td>0.681191</td>\n",
              "    </tr>\n",
              "    <tr>\n",
              "      <th>278</th>\n",
              "      <td>1</td>\n",
              "      <td>32511</td>\n",
              "      <td>0.872229</td>\n",
              "      <td>0.831781</td>\n",
              "      <td>4.628559</td>\n",
              "      <td>0.750602</td>\n",
              "    </tr>\n",
              "    <tr>\n",
              "      <th>279</th>\n",
              "      <td>1</td>\n",
              "      <td>32511</td>\n",
              "      <td>0.705604</td>\n",
              "      <td>0.630225</td>\n",
              "      <td>5.115814</td>\n",
              "      <td>0.596087</td>\n",
              "    </tr>\n",
              "  </tbody>\n",
              "</table>\n",
              "<p>280 rows × 6 columns</p>\n",
              "</div>\n",
              "      <button class=\"colab-df-convert\" onclick=\"convertToInteractive('df-94207f22-1f2f-45ef-80ab-1f3a4555d6be')\"\n",
              "              title=\"Convert this dataframe to an interactive table.\"\n",
              "              style=\"display:none;\">\n",
              "        \n",
              "  <svg xmlns=\"http://www.w3.org/2000/svg\" height=\"24px\"viewBox=\"0 0 24 24\"\n",
              "       width=\"24px\">\n",
              "    <path d=\"M0 0h24v24H0V0z\" fill=\"none\"/>\n",
              "    <path d=\"M18.56 5.44l.94 2.06.94-2.06 2.06-.94-2.06-.94-.94-2.06-.94 2.06-2.06.94zm-11 1L8.5 8.5l.94-2.06 2.06-.94-2.06-.94L8.5 2.5l-.94 2.06-2.06.94zm10 10l.94 2.06.94-2.06 2.06-.94-2.06-.94-.94-2.06-.94 2.06-2.06.94z\"/><path d=\"M17.41 7.96l-1.37-1.37c-.4-.4-.92-.59-1.43-.59-.52 0-1.04.2-1.43.59L10.3 9.45l-7.72 7.72c-.78.78-.78 2.05 0 2.83L4 21.41c.39.39.9.59 1.41.59.51 0 1.02-.2 1.41-.59l7.78-7.78 2.81-2.81c.8-.78.8-2.07 0-2.86zM5.41 20L4 18.59l7.72-7.72 1.47 1.35L5.41 20z\"/>\n",
              "  </svg>\n",
              "      </button>\n",
              "      \n",
              "  <style>\n",
              "    .colab-df-container {\n",
              "      display:flex;\n",
              "      flex-wrap:wrap;\n",
              "      gap: 12px;\n",
              "    }\n",
              "\n",
              "    .colab-df-convert {\n",
              "      background-color: #E8F0FE;\n",
              "      border: none;\n",
              "      border-radius: 50%;\n",
              "      cursor: pointer;\n",
              "      display: none;\n",
              "      fill: #1967D2;\n",
              "      height: 32px;\n",
              "      padding: 0 0 0 0;\n",
              "      width: 32px;\n",
              "    }\n",
              "\n",
              "    .colab-df-convert:hover {\n",
              "      background-color: #E2EBFA;\n",
              "      box-shadow: 0px 1px 2px rgba(60, 64, 67, 0.3), 0px 1px 3px 1px rgba(60, 64, 67, 0.15);\n",
              "      fill: #174EA6;\n",
              "    }\n",
              "\n",
              "    [theme=dark] .colab-df-convert {\n",
              "      background-color: #3B4455;\n",
              "      fill: #D2E3FC;\n",
              "    }\n",
              "\n",
              "    [theme=dark] .colab-df-convert:hover {\n",
              "      background-color: #434B5C;\n",
              "      box-shadow: 0px 1px 3px 1px rgba(0, 0, 0, 0.15);\n",
              "      filter: drop-shadow(0px 1px 2px rgba(0, 0, 0, 0.3));\n",
              "      fill: #FFFFFF;\n",
              "    }\n",
              "  </style>\n",
              "\n",
              "      <script>\n",
              "        const buttonEl =\n",
              "          document.querySelector('#df-94207f22-1f2f-45ef-80ab-1f3a4555d6be button.colab-df-convert');\n",
              "        buttonEl.style.display =\n",
              "          google.colab.kernel.accessAllowed ? 'block' : 'none';\n",
              "\n",
              "        async function convertToInteractive(key) {\n",
              "          const element = document.querySelector('#df-94207f22-1f2f-45ef-80ab-1f3a4555d6be');\n",
              "          const dataTable =\n",
              "            await google.colab.kernel.invokeFunction('convertToInteractive',\n",
              "                                                     [key], {});\n",
              "          if (!dataTable) return;\n",
              "\n",
              "          const docLinkHtml = 'Like what you see? Visit the ' +\n",
              "            '<a target=\"_blank\" href=https://colab.research.google.com/notebooks/data_table.ipynb>data table notebook</a>'\n",
              "            + ' to learn more about interactive tables.';\n",
              "          element.innerHTML = '';\n",
              "          dataTable['output_type'] = 'display_data';\n",
              "          await google.colab.output.renderOutput(dataTable, element);\n",
              "          const docLink = document.createElement('div');\n",
              "          docLink.innerHTML = docLinkHtml;\n",
              "          element.appendChild(docLink);\n",
              "        }\n",
              "      </script>\n",
              "    </div>\n",
              "  </div>\n",
              "  "
            ]
          },
          "metadata": {},
          "execution_count": 231
        }
      ]
    },
    {
      "cell_type": "code",
      "source": [
        "exemplo = [30511,0.45,0.05,4.7,0.83]"
      ],
      "metadata": {
        "id": "pHLvmuJPyycp"
      },
      "execution_count": null,
      "outputs": []
    },
    {
      "cell_type": "code",
      "source": [
        "resultado = models.predict(np.array(exemplo).reshape(1, -1))"
      ],
      "metadata": {
        "colab": {
          "base_uri": "https://localhost:8080/"
        },
        "id": "BrgQ_qIC0bPr",
        "outputId": "560dff8d-b0dd-4e4a-c57c-5127b17a6ac9"
      },
      "execution_count": null,
      "outputs": [
        {
          "output_type": "stream",
          "name": "stderr",
          "text": [
            "/usr/local/lib/python3.8/dist-packages/sklearn/base.py:450: UserWarning: X does not have valid feature names, but KNeighborsClassifier was fitted with feature names\n",
            "  warnings.warn(\n"
          ]
        }
      ]
    },
    {
      "cell_type": "code",
      "source": [
        "print(\"Essa telha é ruim\" if resultado == 0 else \"Essa telha é boa\")"
      ],
      "metadata": {
        "colab": {
          "base_uri": "https://localhost:8080/"
        },
        "id": "G3kHlucp0bH1",
        "outputId": "b73f2c14-439c-4775-f0b8-ae10ab91bd12"
      },
      "execution_count": null,
      "outputs": [
        {
          "output_type": "stream",
          "name": "stdout",
          "text": [
            "Essa telha é ruim\n"
          ]
        }
      ]
    }
  ],
  "metadata": {
    "colab": {
      "provenance": []
    },
    "kernelspec": {
      "display_name": "Python 3",
      "language": "python",
      "name": "python3"
    },
    "language_info": {
      "codemirror_mode": {
        "name": "ipython",
        "version": 3
      },
      "file_extension": ".py",
      "mimetype": "text/x-python",
      "name": "python",
      "nbconvert_exporter": "python",
      "pygments_lexer": "ipython3",
      "version": "3.8.5"
    }
  },
  "nbformat": 4,
  "nbformat_minor": 0
}